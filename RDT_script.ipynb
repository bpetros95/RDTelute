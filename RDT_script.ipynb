{
 "cells": [
  {
   "cell_type": "markdown",
   "id": "e9d88e0f",
   "metadata": {
    "heading_collapsed": true
   },
   "source": [
    "# Import statements; input files; arguments for plots"
   ]
  },
  {
   "cell_type": "code",
   "execution_count": 1,
   "id": "805f19ab",
   "metadata": {
    "hidden": true
   },
   "outputs": [],
   "source": [
    "import pandas as pd\n",
    "from matplotlib import pyplot as plt\n",
    "import numpy as np\n",
    "import seaborn as sns\n",
    "from scipy import stats\n",
    "from scipy.stats import ranksums\n",
    "from statannotations.Annotator import Annotator\n",
    "import allel\n",
    "import random\n",
    "from IPython.display import FileLink"
   ]
  },
  {
   "cell_type": "code",
   "execution_count": 2,
   "id": "aef707e6",
   "metadata": {
    "hidden": true
   },
   "outputs": [
    {
     "name": "stderr",
     "output_type": "stream",
     "text": [
      "/Users/jsilbert/opt/miniconda3/lib/python3.9/site-packages/openpyxl/styles/stylesheet.py:226: UserWarning: Workbook contains no default style, apply openpyxl's default\n",
      "  warn(\"Workbook contains no default style, apply openpyxl's default\")\n"
     ]
    }
   ],
   "source": [
    "# input files for clinical study comparison\n",
    "seq_metadata = pd.read_excel(\"seq-metadata.xlsx\")\n",
    "rdt_pcr = pd.read_csv(\"WellResult_qPCRrerun_20221201.csv\")\n",
    "genomes = pd.read_csv('batch132RDTs.tsv',sep='\\t') # also for MPHN2\n",
    "reads = pd.read_csv(r\"fastqc_sequence_counts_plot.csv\",sep=',')\n",
    "\n",
    "# input files for MPHN2\n",
    "MPHN2_pcr = pd.read_csv('2023-01-04 RDTs MPHN2 qPCR.xlsx - Results.csv',skiprows=40)\n",
    "\n",
    "# input files for synthetic comparisons\n",
    "elution = pd.read_csv(\"2022-07-11 145129 excel.xlsx - Elution_time_results.csv\")\n",
    "buffer = pd.read_csv(\"buffers.csv\",skiprows=50)\n",
    "rotation = pd.read_excel(\"2023-01-31 143709.xls\",skiprows=50)\n",
    "seeding = pd.read_excel(\"2023-02-07 repeat degradation.xlsx\",skiprows=40)\n",
    "KFFcomp = pd.read_excel(\"2023-03-08 Synthetic RDT KFF v Column.xlsx\",sheet_name='Results',skiprows=40)"
   ]
  },
  {
   "cell_type": "code",
   "execution_count": 3,
   "id": "c64a89c4",
   "metadata": {
    "hidden": true
   },
   "outputs": [],
   "source": [
    "args_boxplot = {'boxprops':dict(linestyle='-', linewidth=1.5, color='#00145A',fill=None),\n",
    "           'flierprops':dict(marker='o', markersize=2.2, linestyle='none'), \n",
    "           'whiskerprops':dict(color='#00145A'), 'capprops':dict(color='#00145A'),\n",
    "           'medianprops':dict(linewidth=1.5, linestyle='-', color='black') , 'width':0.4}\n",
    "\n",
    "args_stripplot = {'alpha':0.4, 'jitter':0.2, 'size':7, 'hue':\"variable\", 'palette':['grey']}\n",
    "\n",
    "args_scatterplot_2x = {'alpha':0.9, 'hue':\"variable\", 'palette':['grey','black']}"
   ]
  },
  {
   "cell_type": "markdown",
   "id": "cb2e1dfa",
   "metadata": {
    "heading_collapsed": true
   },
   "source": [
    "# Functions used across multiple sections"
   ]
  },
  {
   "cell_type": "markdown",
   "id": "a3d17aea",
   "metadata": {
    "hidden": true
   },
   "source": [
    "Related to statistics"
   ]
  },
  {
   "cell_type": "code",
   "execution_count": 4,
   "id": "3e781abf",
   "metadata": {
    "hidden": true
   },
   "outputs": [],
   "source": [
    "# function to add in relevant p values for dataframes of style \"Cq\" where each variable is its own column\n",
    "def get_pvalues(Cq, pairs):\n",
    "    # get pvalues for relevant comparisons in pairs\n",
    "    pvalues = []\n",
    "    for p in pairs:\n",
    "        pvalues.append(ranksums(Cq[[p[0]]], Cq[[p[1]]], nan_policy='omit').pvalue[0])\n",
    "    return pvalues\n",
    "\n",
    "# function to add in relevant p values for dataframes of \"melted\" style, with 'variable' and 'value' columns\n",
    "def get_pvalues2(df, pairs,wilcoxon=False):\n",
    "    # get pvalues for relevant comparisons in pairs\n",
    "    pvalues = []\n",
    "    for p in pairs:\n",
    "        a,b = df[df.variable==p[0]][['value']], df[df.variable==p[1]][['value']]\n",
    "        if wilcoxon == True:\n",
    "            pvalues.append(stats.wilcoxon(a,b).pvalue[0])\n",
    "        else:\n",
    "            pvalues.append(ranksums(a,b,nan_policy='omit').pvalue[0]) \n",
    "    return pvalues\n",
    "\n",
    "# give 95% CI for slope\n",
    "def slope95CI(a,b,text): # compare linear regression between a and b; print text as description\n",
    "    results = stats.linregress(a,b)\n",
    "    print(f'Linregress Results for {text}:\\nslope = {results.slope:.2f}',\\\n",
    "         f'\\nCI = {results.slope-1.96*results.stderr:.2f} to {results.slope+1.96*results.stderr:.2f}',\\\n",
    "         f'\\np = {results.pvalue}\\n')"
   ]
  },
  {
   "cell_type": "markdown",
   "id": "6164cdff",
   "metadata": {
    "hidden": true
   },
   "source": [
    "To clean up PCR results from ThermoFisher"
   ]
  },
  {
   "cell_type": "code",
   "execution_count": 5,
   "id": "d01344ea",
   "metadata": {
    "hidden": true
   },
   "outputs": [],
   "source": [
    "# take median, unless only one triplicate came back positive (in which case Na)\n",
    "def nanmedian(series):\n",
    "    if sum(series.isnull()*1)>1:\n",
    "        return pd.NA\n",
    "    else:\n",
    "        return series.median()\n",
    "    \n",
    "# function to take triplicate Ct results from qPCR, and return median for each sample\n",
    "def PCR_results(df):\n",
    "    # the columns are named differently depending upon how the file was downloaded from thermofisher\n",
    "    sample = 'Sample' if 'Sample' in df.columns else 'Sample Name'\n",
    "    ct = 'Cq' if 'Cq' in df.columns else 'CT'\n",
    "    \n",
    "    # set undetermined to nan, then take \"nanmedian\" (i.e. if 1 triplicate is \"positive\", treat as negative)\n",
    "    df[ct] = df[ct].replace('Undetermined', pd.NA)\n",
    "    aggregation_functions = {sample: 'first', ct: nanmedian}\n",
    "    df = df.groupby(df[sample]).aggregate(aggregation_functions).reset_index(inplace=False,drop=True)\n",
    "    \n",
    "    # set undetermined to 40\n",
    "    df[ct] = df[ct].replace(pd.NA, 40)\n",
    "    \n",
    "    return df"
   ]
  },
  {
   "cell_type": "markdown",
   "id": "bd6c0035",
   "metadata": {
    "hidden": true
   },
   "source": [
    "Related to plotting figures"
   ]
  },
  {
   "cell_type": "code",
   "execution_count": 6,
   "id": "f80df3ab",
   "metadata": {
    "hidden": true
   },
   "outputs": [],
   "source": [
    "# save figure as...\n",
    "def save_figure(figname):\n",
    "    plt.tight_layout()\n",
    "    plt.savefig(figname)"
   ]
  },
  {
   "cell_type": "markdown",
   "id": "4245cd0c",
   "metadata": {
    "heading_collapsed": true
   },
   "source": [
    "# Cohort 1: clinical study"
   ]
  },
  {
   "cell_type": "markdown",
   "id": "8bfa64bd",
   "metadata": {
    "heading_collapsed": true,
    "hidden": true
   },
   "source": [
    "## Dataframes"
   ]
  },
  {
   "cell_type": "markdown",
   "id": "4079255b",
   "metadata": {
    "hidden": true
   },
   "source": [
    "Clean up seq_metadata table"
   ]
  },
  {
   "cell_type": "code",
   "execution_count": 7,
   "id": "e387504e",
   "metadata": {
    "hidden": true
   },
   "outputs": [],
   "source": [
    "# Two dates were mistyped in the input file -- FIX THIS\n",
    "seq_metadata.loc[seq_metadata['Test Date']=='2022-08-18','Extraction Date'] = '2022-08-20'\n",
    "seq_metadata.loc[seq_metadata['Test Date']=='2022-08-15','Extraction Date'] = '2022-08-20'\n",
    "\n",
    "# set columns: ID number; Diagnosis date\n",
    "seq_metadata['ID']= seq_metadata['Broad tracking IDs'].squeeze().str.extract(pat = r'(\\d+)').iloc[:,0]\n",
    "seq_metadata.rename(columns={'Enter the date of your positive diagnosis if applicable':'Diagnosis'},inplace=True)"
   ]
  },
  {
   "cell_type": "markdown",
   "id": "e4e6247b",
   "metadata": {
    "hidden": true
   },
   "source": [
    "Clean up rdt_value table"
   ]
  },
  {
   "cell_type": "code",
   "execution_count": 8,
   "id": "8e759a96",
   "metadata": {
    "hidden": true
   },
   "outputs": [],
   "source": [
    "# set up with Sample, ID, Cq columns\n",
    "rdt_value = rdt_pcr.copy()\n",
    "rdt_value['Sample'] = rdt_value['Sample'].str.replace('strip','str')\n",
    "rdt_value = PCR_results(rdt_value) # take medians of PCR triplicates\n",
    "rdt_value['ID'] = [s[0:2] for s in rdt_value['Sample']]\n",
    "\n",
    "# Exclude samples with Cts in same batch that were higher than the associated control\n",
    "Ct_04to06 = rdt_value[rdt_value.Sample == '04_05_06_H2O'].Cq.values[0]\n",
    "Ct_11to14 = rdt_value[rdt_value.Sample == '11_12_13_14_H2O'].Cq.values[0]\n",
    "for i in range(len(rdt_value)):\n",
    "    if (rdt_value.ID[i] in ['04','05','06']) and (rdt_value.Cq[i] > Ct_04to06) and (rdt_value.Cq[i] < 40):\n",
    "        rdt_value.loc[i,'Cq'] = np.nan\n",
    "    if (rdt_value.ID[i] in ['11','12','13','14']) and (rdt_value.Cq[i] > Ct_11to14) and (rdt_value.Cq[i] < 40):\n",
    "        rdt_value.loc[i,'Cq'] = np.nan\n",
    "rdt_value.dropna(subset=['Cq'],inplace=True)\n",
    "\n",
    "# Exclude fully negative individuals, and additional samples that were part of PCR test but not part of study\n",
    "rdt_value = rdt_value[rdt_value['Sample'].squeeze().str.contains(pat='^15|02|03|P_')== False]\n",
    "\n",
    "# Exclude non-clinical samples (i.e. PCR standards, water controls)\n",
    "rdt_value = rdt_value[rdt_value['Sample'].str.match(pat='^([0]?[1-9]|1[0-6])\\_[RBQi]')].reset_index(drop=True)\n",
    "rdt_value['ID'] = [s[0:2] for s in rdt_value.Sample]\n",
    "\n",
    "# Categorize test type\n",
    "rdt_value['variable'] = np.nan\n",
    "rdt_value.loc[np.where(rdt_value.Sample.str.contains(pat='Q.*_str'))[0], 'variable'] = 'Quickvue Strip'\n",
    "rdt_value.loc[np.where(rdt_value.Sample.str.contains(pat='B.*_str'))[0], 'variable'] = 'Binax Strip'\n",
    "rdt_value.loc[np.where(rdt_value.Sample.str.contains(pat='_iH'))[0], 'variable'] = 'iHealth'\n",
    "rdt_value.loc[np.where(rdt_value.Sample.str.contains(pat='_R'))[0], 'variable'] = 'PCR Swab'\n",
    "rdt_value.loc[np.where(rdt_value.Sample.str.contains(pat='Q.*_tube'))[0], 'variable'] = 'Quickvue Tube'\n",
    "rdt_value.loc[np.where(rdt_value.Sample.str.contains(pat='B.*_swab'))[0], 'variable'] = 'Binax Swab'"
   ]
  },
  {
   "cell_type": "markdown",
   "id": "2f41c6f8",
   "metadata": {
    "hidden": true
   },
   "source": [
    "Compare group order (data frame: df_order) *and* collect each strip's difference from R (data frame: df_total_Cq)"
   ]
  },
  {
   "cell_type": "code",
   "execution_count": 9,
   "id": "f818bf52",
   "metadata": {
    "hidden": true
   },
   "outputs": [],
   "source": [
    "first, second = [], [] # to store first & second test Ct\n",
    "iH, B, Q = [], [], [] # to store each strip's difference from R\n",
    "\n",
    "for ID in rdt_value.ID.unique():\n",
    "    # pull out RDT order from metadata\n",
    "    order = seq_metadata.Group[seq_metadata.ID==ID].values[0][3:].split(',')\n",
    "    # compare group order for all positive individuals who took 2 rapid tests & PCR swab\n",
    "    if sum(rdt_value[rdt_value.ID==ID].Sample.str.contains('r|R|i'))==3:\n",
    "        first.append(rdt_value[rdt_value['Sample'].str.fullmatch(pat=ID+'_'+order[0]+'[^w]*')==True].Cq.values[0])\n",
    "        second.append(rdt_value[rdt_value['Sample'].str.fullmatch(pat=ID+'_'+order[1]+'[^w]*')==True].Cq.values[0])\n",
    "    # look at difference of each strip from R\n",
    "    strips = rdt_value[rdt_value['Sample'].str.match(pat=ID+'.*(str|iH)')==True].reset_index()\n",
    "    R = rdt_value[rdt_value['Sample'].str.match(pat=ID+'.*R')==True].Cq.values[0]\n",
    "    for i in range(len(strips)):\n",
    "        if 'iH' in strips.Sample[i]:\n",
    "            iH.append(strips.Cq[i] - R)\n",
    "        elif 'B' in strips.Sample[i]:\n",
    "            B.append(strips.Cq[i] - R)\n",
    "        else:\n",
    "            Q.append(strips.Cq[i] - R)\n",
    "        \n",
    "df_order = pd.DataFrame({'First':first,'Second':second}).melt()\n",
    "df_total_Cq = pd.DataFrame.from_dict({'iHealth':iH,'Binax':B,'Quickvue':Q,'All':iH+B+Q}, orient='index').T"
   ]
  },
  {
   "cell_type": "markdown",
   "id": "7e36019f",
   "metadata": {
    "hidden": true
   },
   "source": [
    "Create file that combines Ct data with metadata re: diagnosis, test, & extraction dates, merging by ID"
   ]
  },
  {
   "cell_type": "code",
   "execution_count": 10,
   "id": "01ff7165",
   "metadata": {
    "hidden": true
   },
   "outputs": [],
   "source": [
    "dates = pd.merge(seq_metadata,rdt_value,how='right',on='ID')\n",
    "dates = dates[['Diagnosis','Test Date','Extraction Date','ID','Sample','Cq']]\n",
    "\n",
    "# add in date differences for diagnosis to test, test to extraction; & Ct minus Ct of corresponding PCR Swab\n",
    "dates['Days_Diagnosis_Test']  = [d.days for d in (dates['Test Date'] - dates['Diagnosis'])]\n",
    "dates['Days_Test_Extraction'] = [d. days for d in (dates['Extraction Date'] - dates['Test Date'])]\n",
    "dates['R_diff'] = [(dates.Cq[i]-dates[dates.Sample==(dates.ID[i]+'_R')].Cq).values[0] for i in range(len(dates))]\n",
    "\n",
    "# change \"variable\" to be larger categorical groups (i.e. RDT v. PCR, swab v. strip v. tube)\n",
    "dates['variable'] = [s.split('_')[-1] for s in dates.Sample]\n",
    "dates.variable = dates.variable.replace({'str':'Strip','iH':'Strip','R':'Polypropylene Swab'})"
   ]
  },
  {
   "cell_type": "markdown",
   "id": "a4c763a3",
   "metadata": {
    "hidden": true
   },
   "source": [
    "Clean up genomic data frame, and merge with other data frames"
   ]
  },
  {
   "cell_type": "code",
   "execution_count": 11,
   "id": "a97b198c",
   "metadata": {
    "hidden": true,
    "scrolled": false
   },
   "outputs": [],
   "source": [
    "genome_data_1 = genomes.rename(columns={\"entity:batch132RDTs_id\": \"Sample\"}).copy()\n",
    "genome_data_1['Sample'] = [item[0].replace('strip','str') for item in genome_data_1['Sample'].str.split('.')]\n",
    "\n",
    "# merge with other dataframes to add in Cts & total reads\n",
    "total_reads = reads.copy()\n",
    "total_reads['Category'] = pd.Series([i[-1].split('.')[0][1:].replace('strip','str') for i \\\n",
    "                           in total_reads['Category'].str.split('|')])\n",
    "genome_data_1 = pd.merge(genome_data_1, total_reads.rename(columns={'Category':'Sample'}), how='right', on='Sample')\n",
    "genome_data_1 = pd.merge(genome_data_1, rdt_value, how='right', on='Sample')\n",
    "\n",
    "# set negative samples (i.e., Ct=40) to have a genome length of 0\n",
    "genome_data_1.loc[np.where(genome_data_1.Cq==40)[0],'assembly_length_unambiguous'] = np.nan\n",
    "\n",
    "# drop any genomes that are discarded due to being shorter than associated batch extraction control\n",
    "limit04_06 = genomes[genomes['entity:batch132RDTs_id']=='04_05_06_H2O'].assembly_length_unambiguous.values[0]\n",
    "limit11_14 = genomes[genomes['entity:batch132RDTs_id']=='11_12_13_14_H2O'].assembly_length_unambiguous.values[0]\n",
    "for i in range(len(genome_data_1)):\n",
    "    if genome_data_1.ID[i] in ['04','05','06']:\n",
    "        if genome_data_1.assembly_length_unambiguous[i] < limit04_06:\n",
    "            for column in genomes.columns[1:]:\n",
    "                genome_data_1.loc[i,column] = np.nan\n",
    "    elif genome_data_1.ID[i] in ['11','12','13','14']:\n",
    "        if genome_data_1.assembly_length_unambiguous[i] < limit11_14:\n",
    "            for column in genomes.columns[1:]:\n",
    "                genome_data_1.loc[i,column] = np.nan\n",
    "genome_data_1 = genome_data_1.dropna(subset=['assembly_length_unambiguous']).reset_index(drop=True)\n",
    "                \n",
    "# add column for % of genome assembled\n",
    "LENGTH = 29903\n",
    "genome_data_1['Percent'] = genome_data_1['assembly_length_unambiguous']/LENGTH\n",
    "\n",
    "# Strip, PCR Swab, or other\n",
    "genome_data_1['category'] = np.nan\n",
    "genome_data_1.loc[genome_data_1.variable=='PCR Swab','category'] = 'Polypropylene Swab'\n",
    "for strip in ['Quickvue Strip','Binax Strip','iHealth']:\n",
    "    genome_data_1.loc[genome_data_1.variable==strip,'category'] = 'Strip'"
   ]
  },
  {
   "cell_type": "markdown",
   "id": "fabab02c",
   "metadata": {
    "heading_collapsed": true,
    "hidden": true
   },
   "source": [
    "## Box & whisker plots - Ct"
   ]
  },
  {
   "cell_type": "code",
   "execution_count": 12,
   "id": "13784168",
   "metadata": {
    "hidden": true
   },
   "outputs": [],
   "source": [
    "sns.set_style(\"white\")  # \"white\",\"dark\",\"darkgrid\",\"ticks\""
   ]
  },
  {
   "cell_type": "code",
   "execution_count": 13,
   "id": "1036852f",
   "metadata": {
    "hidden": true
   },
   "outputs": [
    {
     "name": "stdout",
     "output_type": "stream",
     "text": [
      "Mean of all strips' difference: 10.15989620995116 \n",
      "\n",
      "p-value annotation legend:\n",
      "      ns: p <= 1.00e+00\n",
      "       *: 1.00e-02 < p <= 5.00e-02\n",
      "      **: 1.00e-03 < p <= 1.00e-02\n",
      "     ***: 1.00e-04 < p <= 1.00e-03\n",
      "    ****: p <= 1.00e-04\n",
      "\n",
      "iHealth vs. Binax: Custom statistical test, P_val:6.374e-01\n",
      "Binax vs. Quickvue: Custom statistical test, P_val:9.219e-02\n",
      "iHealth vs. Quickvue: Custom statistical test, P_val:2.200e-01\n"
     ]
    },
    {
     "data": {
      "image/png": "[encoded data removed]",
      "text/plain": [
       "<Figure size 360x360 with 1 Axes>"
      ]
     },
     "metadata": {
      "needs_background": "light"
     },
     "output_type": "display_data"
    }
   ],
   "source": [
    "plt.figure(figsize=[5,5])\n",
    "\n",
    "order = ['All','iHealth','Binax','Quickvue']\n",
    "ax = sns.boxplot(x=\"variable\", y=\"value\", order=order,data=pd.melt(df_total_Cq[order]), **args_boxplot)\n",
    "sns.stripplot(data=pd.melt(df_total_Cq[order]), x=\"variable\", y=\"value\", **args_stripplot)\n",
    "\n",
    "print('Mean of all strips\\' difference:', df_total_Cq.All.mean(),'\\n')\n",
    "\n",
    "pairs = [['iHealth','Binax'],['iHealth','Quickvue'],['Binax','Quickvue']]\n",
    "annotator = Annotator(ax, pairs,data=pd.melt(df_total_Cq),x='variable',y='value',order=order)\n",
    "annotator.set_pvalues(get_pvalues(df_total_Cq,pairs))\n",
    "annotator.annotate()\n",
    "\n",
    "plt.xlabel(\"Test Brand\", fontweight='normal', fontsize=12)\n",
    "plt.ylabel(\"Ct Difference from PCR Swab\", fontweight='normal', fontsize=12) \n",
    "plt.yticks(np.arange(5,25,5))\n",
    "ax.get_legend().remove();\n",
    "save_figure('fig/CT_difference_from_PCR.svg')"
   ]
  },
  {
   "cell_type": "code",
   "execution_count": 14,
   "id": "a8149c06",
   "metadata": {
    "hidden": true
   },
   "outputs": [
    {
     "name": "stdout",
     "output_type": "stream",
     "text": [
      "p-value annotation legend:\n",
      "      ns: p <= 1.00e+00\n",
      "       *: 1.00e-02 < p <= 5.00e-02\n",
      "      **: 1.00e-03 < p <= 1.00e-02\n",
      "     ***: 1.00e-04 < p <= 1.00e-03\n",
      "    ****: p <= 1.00e-04\n",
      "\n",
      "First vs. Second: Custom statistical test, P_val:6.936e-01\n"
     ]
    },
    {
     "data": {
      "image/png": "[encoded data removed]",
      "text/plain": [
       "<Figure size 360x360 with 1 Axes>"
      ]
     },
     "metadata": {
      "needs_background": "light"
     },
     "output_type": "display_data"
    }
   ],
   "source": [
    "plt.figure(figsize=[5,5])\n",
    "\n",
    "ax = sns.boxplot(x=\"variable\", y=\"value\", data=df_order,**args_boxplot)\n",
    "sns.stripplot(data=df_order, x=\"variable\", y=\"value\",**args_stripplot)\n",
    "\n",
    "ax.invert_yaxis()\n",
    "\n",
    "pairs = df_order.variable.unique()\n",
    "annotator = Annotator(ax, [pairs],data=df_order,x='variable',y='value')\n",
    "annotator.set_pvalues([ranksums(first,second,nan_policy='omit').pvalue])\n",
    "annotator.annotate()\n",
    "\n",
    "plt.xlabel(\"Test Order\", fontweight='normal', fontsize=12)\n",
    "plt.ylabel(\"Ct Values\", fontweight='normal', fontsize=12) \n",
    "plt.legend([],[], frameon=False)\n",
    "\n",
    "save_figure('fig/CT_test_order.svg')"
   ]
  },
  {
   "cell_type": "markdown",
   "id": "fdf3f68c",
   "metadata": {
    "heading_collapsed": true,
    "hidden": true
   },
   "source": [
    "##  Statistics for genome comparisons"
   ]
  },
  {
   "cell_type": "code",
   "execution_count": 15,
   "id": "246e1888",
   "metadata": {
    "hidden": true
   },
   "outputs": [],
   "source": [
    "# return relevant statistics in terms of how many samples had Cts, complete genomes, etc\n",
    "\n",
    "# update dataframes with columns that will enable groupby() analyses\n",
    "rdt_value['Ct<40'] = [g<40 for g in rdt_value.Cq]\n",
    "genome_data_1['Ct<40'] = [g<40 for g in genome_data_1.Cq]\n",
    "genomes_no40 = genome_data_1[genome_data_1['Ct<40']]\n",
    "genomes_no40['Percent>80'] = [g>.8 for g in genomes_no40.Percent]\n",
    "genomes_no40['Percent>10'] = [g>.10 for g in genomes_no40.Percent]\n",
    "\n",
    "# calculate the various stats we want\n",
    "genome_stats = pd.DataFrame({# Number & percent of samples with viral material, & total samples\n",
    "                            'NumberPositive':rdt_value.groupby('variable').sum()['Ct<40'],\\\n",
    "                            'NumberSamples':rdt_value.groupby('variable').count()['Cq'],\\\n",
    "                            # Ct range of positive samples, and mean\n",
    "                            'MinCt':rdt_value.groupby('variable').min()['Cq'],\\\n",
    "                            'MaxCt':rdt_value[rdt_value.Cq<40].groupby('variable').max()['Cq'],\\\n",
    "                            'MeanCt':rdt_value[rdt_value.Cq<40].groupby('variable').mean()['Cq'],\\\n",
    "                            # Number of sequenced samples; number & percent of samples with complete genomes\n",
    "                            'NumberSequenced':genomes_no40.groupby('variable').count()['Cq'],\\\n",
    "                            'NumberComplete':genomes_no40.groupby('variable').sum()['Percent>80'],\\\n",
    "                            'PercentComplete':genomes_no40.groupby('variable').mean()['Percent>80'],\\\n",
    "                            'NumPartial':genomes_no40.groupby('variable').sum()['Percent>10'],\\\n",
    "                            # Average percent of genome covered, for positive samples\n",
    "                            'AveragePercent':genomes_no40.groupby('variable').mean()['Percent']})\n",
    "genome_stats['PercentWithCt'] = genome_stats['NumberPositive'] / genome_stats['NumberSamples'] * 100\n",
    "# update any percent stats to be from 0-100 instead of 0-1\n",
    "for percent in ['PercentComplete','AveragePercent']:\n",
    "    genome_stats[percent] = (genome_stats[percent]*100)\n",
    "# round all numbers to have only one decimal point\n",
    "genome_stats = genome_stats.round(decimals=1)"
   ]
  },
  {
   "cell_type": "code",
   "execution_count": 16,
   "id": "84c10842",
   "metadata": {
    "hidden": true
   },
   "outputs": [
    {
     "data": {
      "text/html": [
       "<div>\n",
       "<style scoped>\n",
       "    .dataframe tbody tr th:only-of-type {\n",
       "        vertical-align: middle;\n",
       "    }\n",
       "\n",
       "    .dataframe tbody tr th {\n",
       "        vertical-align: top;\n",
       "    }\n",
       "\n",
       "    .dataframe thead th {\n",
       "        text-align: right;\n",
       "    }\n",
       "</style>\n",
       "<table border=\"1\" class=\"dataframe\">\n",
       "  <thead>\n",
       "    <tr style=\"text-align: right;\">\n",
       "      <th></th>\n",
       "      <th>NumberPositive</th>\n",
       "      <th>NumberSamples</th>\n",
       "      <th>MinCt</th>\n",
       "      <th>MaxCt</th>\n",
       "      <th>MeanCt</th>\n",
       "      <th>NumberSequenced</th>\n",
       "      <th>NumberComplete</th>\n",
       "      <th>PercentComplete</th>\n",
       "      <th>NumPartial</th>\n",
       "      <th>AveragePercent</th>\n",
       "      <th>PercentWithCt</th>\n",
       "    </tr>\n",
       "    <tr>\n",
       "      <th>variable</th>\n",
       "      <th></th>\n",
       "      <th></th>\n",
       "      <th></th>\n",
       "      <th></th>\n",
       "      <th></th>\n",
       "      <th></th>\n",
       "      <th></th>\n",
       "      <th></th>\n",
       "      <th></th>\n",
       "      <th></th>\n",
       "      <th></th>\n",
       "    </tr>\n",
       "  </thead>\n",
       "  <tbody>\n",
       "    <tr>\n",
       "      <th>Binax Strip</th>\n",
       "      <td>5</td>\n",
       "      <td>9</td>\n",
       "      <td>27.6</td>\n",
       "      <td>33.8</td>\n",
       "      <td>30.3</td>\n",
       "      <td>2</td>\n",
       "      <td>0</td>\n",
       "      <td>0.0</td>\n",
       "      <td>1</td>\n",
       "      <td>24.4</td>\n",
       "      <td>55.6</td>\n",
       "    </tr>\n",
       "    <tr>\n",
       "      <th>Binax Swab</th>\n",
       "      <td>8</td>\n",
       "      <td>9</td>\n",
       "      <td>19.5</td>\n",
       "      <td>33.0</td>\n",
       "      <td>26.0</td>\n",
       "      <td>8</td>\n",
       "      <td>3</td>\n",
       "      <td>37.5</td>\n",
       "      <td>7</td>\n",
       "      <td>69.8</td>\n",
       "      <td>88.9</td>\n",
       "    </tr>\n",
       "    <tr>\n",
       "      <th>PCR Swab</th>\n",
       "      <td>13</td>\n",
       "      <td>13</td>\n",
       "      <td>17.8</td>\n",
       "      <td>31.7</td>\n",
       "      <td>23.7</td>\n",
       "      <td>13</td>\n",
       "      <td>13</td>\n",
       "      <td>100.0</td>\n",
       "      <td>13</td>\n",
       "      <td>98.0</td>\n",
       "      <td>100.0</td>\n",
       "    </tr>\n",
       "    <tr>\n",
       "      <th>Quickvue Strip</th>\n",
       "      <td>6</td>\n",
       "      <td>8</td>\n",
       "      <td>25.8</td>\n",
       "      <td>35.2</td>\n",
       "      <td>29.6</td>\n",
       "      <td>5</td>\n",
       "      <td>2</td>\n",
       "      <td>40.0</td>\n",
       "      <td>4</td>\n",
       "      <td>68.0</td>\n",
       "      <td>75.0</td>\n",
       "    </tr>\n",
       "    <tr>\n",
       "      <th>Quickvue Tube</th>\n",
       "      <td>2</td>\n",
       "      <td>6</td>\n",
       "      <td>31.2</td>\n",
       "      <td>33.3</td>\n",
       "      <td>32.2</td>\n",
       "      <td>1</td>\n",
       "      <td>1</td>\n",
       "      <td>100.0</td>\n",
       "      <td>1</td>\n",
       "      <td>95.5</td>\n",
       "      <td>33.3</td>\n",
       "    </tr>\n",
       "    <tr>\n",
       "      <th>iHealth</th>\n",
       "      <td>5</td>\n",
       "      <td>6</td>\n",
       "      <td>30.8</td>\n",
       "      <td>34.3</td>\n",
       "      <td>33.2</td>\n",
       "      <td>3</td>\n",
       "      <td>0</td>\n",
       "      <td>0.0</td>\n",
       "      <td>2</td>\n",
       "      <td>46.4</td>\n",
       "      <td>83.3</td>\n",
       "    </tr>\n",
       "  </tbody>\n",
       "</table>\n",
       "</div>"
      ],
      "text/plain": [
       "                NumberPositive  NumberSamples  MinCt  MaxCt  MeanCt  \\\n",
       "variable                                                              \n",
       "Binax Strip                  5              9   27.6   33.8    30.3   \n",
       "Binax Swab                   8              9   19.5   33.0    26.0   \n",
       "PCR Swab                    13             13   17.8   31.7    23.7   \n",
       "Quickvue Strip               6              8   25.8   35.2    29.6   \n",
       "Quickvue Tube                2              6   31.2   33.3    32.2   \n",
       "iHealth                      5              6   30.8   34.3    33.2   \n",
       "\n",
       "                NumberSequenced  NumberComplete  PercentComplete  NumPartial  \\\n",
       "variable                                                                       \n",
       "Binax Strip                   2               0              0.0           1   \n",
       "Binax Swab                    8               3             37.5           7   \n",
       "PCR Swab                     13              13            100.0          13   \n",
       "Quickvue Strip                5               2             40.0           4   \n",
       "Quickvue Tube                 1               1            100.0           1   \n",
       "iHealth                       3               0              0.0           2   \n",
       "\n",
       "                AveragePercent  PercentWithCt  \n",
       "variable                                       \n",
       "Binax Strip               24.4           55.6  \n",
       "Binax Swab                69.8           88.9  \n",
       "PCR Swab                  98.0          100.0  \n",
       "Quickvue Strip            68.0           75.0  \n",
       "Quickvue Tube             95.5           33.3  \n",
       "iHealth                   46.4           83.3  "
      ]
     },
     "execution_count": 16,
     "metadata": {},
     "output_type": "execute_result"
    }
   ],
   "source": [
    "genome_stats"
   ]
  },
  {
   "cell_type": "code",
   "execution_count": 17,
   "id": "ec6e4536",
   "metadata": {
    "hidden": true
   },
   "outputs": [
    {
     "data": {
      "text/html": [
       "<div>\n",
       "<style scoped>\n",
       "    .dataframe tbody tr th:only-of-type {\n",
       "        vertical-align: middle;\n",
       "    }\n",
       "\n",
       "    .dataframe tbody tr th {\n",
       "        vertical-align: top;\n",
       "    }\n",
       "\n",
       "    .dataframe thead th {\n",
       "        text-align: right;\n",
       "    }\n",
       "</style>\n",
       "<table border=\"1\" class=\"dataframe\">\n",
       "  <thead>\n",
       "    <tr style=\"text-align: right;\">\n",
       "      <th></th>\n",
       "      <th>R_clade</th>\n",
       "      <th>R_pango</th>\n",
       "      <th>Str_clade</th>\n",
       "      <th>Str_pango</th>\n",
       "      <th>Clade</th>\n",
       "      <th>Pango</th>\n",
       "    </tr>\n",
       "  </thead>\n",
       "  <tbody>\n",
       "    <tr>\n",
       "      <th>01</th>\n",
       "      <td>22B (Omicron)</td>\n",
       "      <td>BA.5.2.1</td>\n",
       "      <td>[22B (Omicron), 22B (Omicron)]</td>\n",
       "      <td>[Unassigned, Unassigned]</td>\n",
       "      <td>True</td>\n",
       "      <td>False</td>\n",
       "    </tr>\n",
       "    <tr>\n",
       "      <th>04</th>\n",
       "      <td>22D (Omicron)</td>\n",
       "      <td>BA.2.75.2</td>\n",
       "      <td>[22D (Omicron)]</td>\n",
       "      <td>[BA.2.75.2]</td>\n",
       "      <td>True</td>\n",
       "      <td>True</td>\n",
       "    </tr>\n",
       "    <tr>\n",
       "      <th>05</th>\n",
       "      <td>22B (Omicron)</td>\n",
       "      <td>BF.21</td>\n",
       "      <td>[]</td>\n",
       "      <td>[]</td>\n",
       "      <td>False</td>\n",
       "      <td>False</td>\n",
       "    </tr>\n",
       "    <tr>\n",
       "      <th>06</th>\n",
       "      <td>22B (Omicron)</td>\n",
       "      <td>BF.27</td>\n",
       "      <td>[22B (Omicron)]</td>\n",
       "      <td>[BF.27]</td>\n",
       "      <td>True</td>\n",
       "      <td>True</td>\n",
       "    </tr>\n",
       "    <tr>\n",
       "      <th>07</th>\n",
       "      <td>22B (Omicron)</td>\n",
       "      <td>BA.5.2.1</td>\n",
       "      <td>[22B (Omicron), recombinant]</td>\n",
       "      <td>[BA.5.2.1, Unassigned]</td>\n",
       "      <td>True</td>\n",
       "      <td>True</td>\n",
       "    </tr>\n",
       "    <tr>\n",
       "      <th>08</th>\n",
       "      <td>22A (Omicron)</td>\n",
       "      <td>BA.4.6</td>\n",
       "      <td>[22A (Omicron)]</td>\n",
       "      <td>[BA.4.6]</td>\n",
       "      <td>True</td>\n",
       "      <td>True</td>\n",
       "    </tr>\n",
       "    <tr>\n",
       "      <th>09</th>\n",
       "      <td>22B (Omicron)</td>\n",
       "      <td>BA.5.2</td>\n",
       "      <td>[nan, recombinant, recombinant]</td>\n",
       "      <td>[nan, Unassigned, Unassigned]</td>\n",
       "      <td>False</td>\n",
       "      <td>False</td>\n",
       "    </tr>\n",
       "    <tr>\n",
       "      <th>10</th>\n",
       "      <td>22B (Omicron)</td>\n",
       "      <td>BE.1.1</td>\n",
       "      <td>[22B (Omicron), 22B (Omicron), 22B (Omicron)]</td>\n",
       "      <td>[Unassigned, BE.1.1, Unassigned]</td>\n",
       "      <td>True</td>\n",
       "      <td>True</td>\n",
       "    </tr>\n",
       "    <tr>\n",
       "      <th>11</th>\n",
       "      <td>22B (Omicron)</td>\n",
       "      <td>BE.1.1</td>\n",
       "      <td>[]</td>\n",
       "      <td>[]</td>\n",
       "      <td>False</td>\n",
       "      <td>False</td>\n",
       "    </tr>\n",
       "    <tr>\n",
       "      <th>12</th>\n",
       "      <td>22B (Omicron)</td>\n",
       "      <td>BF.26</td>\n",
       "      <td>[22B (Omicron)]</td>\n",
       "      <td>[BF.26]</td>\n",
       "      <td>True</td>\n",
       "      <td>True</td>\n",
       "    </tr>\n",
       "    <tr>\n",
       "      <th>13</th>\n",
       "      <td>22A (Omicron)</td>\n",
       "      <td>BA.4.6</td>\n",
       "      <td>[22A (Omicron), 22A (Omicron)]</td>\n",
       "      <td>[BA.4.6.1, BA.4.6]</td>\n",
       "      <td>True</td>\n",
       "      <td>True</td>\n",
       "    </tr>\n",
       "    <tr>\n",
       "      <th>14</th>\n",
       "      <td>22A (Omicron)</td>\n",
       "      <td>BA.4.6</td>\n",
       "      <td>[22A (Omicron), 22A (Omicron)]</td>\n",
       "      <td>[BA.4.6, BA.4.6]</td>\n",
       "      <td>True</td>\n",
       "      <td>True</td>\n",
       "    </tr>\n",
       "    <tr>\n",
       "      <th>16</th>\n",
       "      <td>22B (Omicron)</td>\n",
       "      <td>BA.5.2</td>\n",
       "      <td>[22B (Omicron)]</td>\n",
       "      <td>[Unassigned]</td>\n",
       "      <td>True</td>\n",
       "      <td>False</td>\n",
       "    </tr>\n",
       "  </tbody>\n",
       "</table>\n",
       "</div>"
      ],
      "text/plain": [
       "          R_clade    R_pango                                      Str_clade  \\\n",
       "01  22B (Omicron)   BA.5.2.1                 [22B (Omicron), 22B (Omicron)]   \n",
       "04  22D (Omicron)  BA.2.75.2                                [22D (Omicron)]   \n",
       "05  22B (Omicron)      BF.21                                             []   \n",
       "06  22B (Omicron)      BF.27                                [22B (Omicron)]   \n",
       "07  22B (Omicron)   BA.5.2.1                   [22B (Omicron), recombinant]   \n",
       "08  22A (Omicron)     BA.4.6                                [22A (Omicron)]   \n",
       "09  22B (Omicron)     BA.5.2                [nan, recombinant, recombinant]   \n",
       "10  22B (Omicron)     BE.1.1  [22B (Omicron), 22B (Omicron), 22B (Omicron)]   \n",
       "11  22B (Omicron)     BE.1.1                                             []   \n",
       "12  22B (Omicron)      BF.26                                [22B (Omicron)]   \n",
       "13  22A (Omicron)     BA.4.6                 [22A (Omicron), 22A (Omicron)]   \n",
       "14  22A (Omicron)     BA.4.6                 [22A (Omicron), 22A (Omicron)]   \n",
       "16  22B (Omicron)     BA.5.2                                [22B (Omicron)]   \n",
       "\n",
       "                           Str_pango  Clade  Pango  \n",
       "01          [Unassigned, Unassigned]   True  False  \n",
       "04                       [BA.2.75.2]   True   True  \n",
       "05                                []  False  False  \n",
       "06                           [BF.27]   True   True  \n",
       "07            [BA.5.2.1, Unassigned]   True   True  \n",
       "08                          [BA.4.6]   True   True  \n",
       "09     [nan, Unassigned, Unassigned]  False  False  \n",
       "10  [Unassigned, BE.1.1, Unassigned]   True   True  \n",
       "11                                []  False  False  \n",
       "12                           [BF.26]   True   True  \n",
       "13                [BA.4.6.1, BA.4.6]   True   True  \n",
       "14                  [BA.4.6, BA.4.6]   True   True  \n",
       "16                      [Unassigned]   True  False  "
      ]
     },
     "metadata": {},
     "output_type": "display_data"
    },
    {
     "name": "stdout",
     "output_type": "stream",
     "text": [
      "Clade    10\n",
      "Pango     8\n",
      "dtype: object\n",
      "Clade    0.769231\n",
      "Pango    0.615385\n",
      "dtype: object\n"
     ]
    }
   ],
   "source": [
    "# for which samples could clade/lineage be accurately predicted by RDTs without PCR swab?\n",
    "lineages = pd.DataFrame(index=genomes_no40.ID.unique(), \\\n",
    "                        columns=['R_clade','R_pango','Str_clade','Str_pango','Clade','Pango'])\n",
    "for i in lineages.index:\n",
    "    lineages['R_clade'].loc[i] = genomes_no40[genomes_no40.Sample==(i+\"_R\")].nextclade_clade.values[0]\n",
    "    lineages['R_pango'].loc[i] = genomes_no40[genomes_no40.Sample==(i+\"_R\")].pango_lineage.values[0]\n",
    "    lineages['Str_clade'].loc[i] = genomes_no40[genomes_no40.Sample.str.contains(pat=i+'_.*[^R]')].nextclade_clade.values\n",
    "    lineages['Str_pango'].loc[i] = genomes_no40[genomes_no40.Sample.str.contains(pat=i+'_.*[^R]')].pango_lineage.values\n",
    "    lineages['Clade'].loc[i] = lineages.R_clade[i] in lineages.Str_clade[i] \n",
    "    lineages['Pango'].loc[i] = lineages.R_pango[i] in lineages.Str_pango[i] \n",
    "\n",
    "display(lineages)\n",
    "print(lineages[['Clade','Pango']].sum())\n",
    "print(lineages[['Clade','Pango']].sum()/13)"
   ]
  },
  {
   "cell_type": "code",
   "execution_count": 18,
   "id": "97142ce5",
   "metadata": {
    "hidden": true
   },
   "outputs": [
    {
     "name": "stdout",
     "output_type": "stream",
     "text": [
      "_iH \n",
      " nextclade_clade    2\n",
      "pango_lineage      0\n",
      "dtype: int64 total: 3 \n",
      "\n",
      "Q.*_str \n",
      " nextclade_clade    4\n",
      "pango_lineage      3\n",
      "dtype: int64 total: 5 \n",
      "\n",
      "Q.*_tube \n",
      " nextclade_clade    1\n",
      "pango_lineage      1\n",
      "dtype: int64 total: 1 \n",
      "\n",
      "B.*_str \n",
      " nextclade_clade    1\n",
      "pango_lineage      0\n",
      "dtype: int64 total: 2 \n",
      "\n",
      "B.*_swab \n",
      " nextclade_clade    7\n",
      "pango_lineage      5\n",
      "dtype: int64 total: 8 \n",
      "\n"
     ]
    }
   ],
   "source": [
    "# Above analysis but for each individual strip\n",
    "df = genomes_no40.set_index(genomes_no40.Sample)\n",
    "\n",
    "for pattern in ['_iH','Q.*_str','Q.*_tube','B.*_str', 'B.*_swab']:\n",
    "    strip = df[df.Sample.str.contains(pat=pattern)].Sample.values\n",
    "    swab = [i[0:2]+\"_R\" for i in strip]\n",
    "    df.loc[[s for s in df.Sample if (s in strip) or (s in swab)]][['nextclade_clade', 'pango_lineage']]\n",
    "    df1 = df.loc[[s for s in df.Sample if s in strip]][['nextclade_clade', 'pango_lineage']].reset_index(drop=True)\n",
    "    df2 = df.loc[[s for s in df.Sample if s in swab]][['nextclade_clade', 'pango_lineage']].reset_index(drop=True)\n",
    "    print(pattern, '\\n', (df1 == df2).sum(),'total:',len(df1),'\\n')"
   ]
  },
  {
   "cell_type": "code",
   "execution_count": 19,
   "id": "630a5243",
   "metadata": {
    "hidden": true
   },
   "outputs": [
    {
     "data": {
      "text/html": [
       "<div>\n",
       "<style scoped>\n",
       "    .dataframe tbody tr th:only-of-type {\n",
       "        vertical-align: middle;\n",
       "    }\n",
       "\n",
       "    .dataframe tbody tr th {\n",
       "        vertical-align: top;\n",
       "    }\n",
       "\n",
       "    .dataframe thead th {\n",
       "        text-align: right;\n",
       "    }\n",
       "</style>\n",
       "<table border=\"1\" class=\"dataframe\">\n",
       "  <thead>\n",
       "    <tr style=\"text-align: right;\">\n",
       "      <th></th>\n",
       "      <th>R_clade</th>\n",
       "      <th>R_pango</th>\n",
       "      <th>Str_clade</th>\n",
       "      <th>Str_pango</th>\n",
       "      <th>Clade</th>\n",
       "      <th>Pango</th>\n",
       "    </tr>\n",
       "  </thead>\n",
       "  <tbody>\n",
       "    <tr>\n",
       "      <th>01</th>\n",
       "      <td>22B (Omicron)</td>\n",
       "      <td>BA.5.2.1</td>\n",
       "      <td>[22B (Omicron), 22B (Omicron)]</td>\n",
       "      <td>[Unassigned, Unassigned]</td>\n",
       "      <td>True</td>\n",
       "      <td>False</td>\n",
       "    </tr>\n",
       "    <tr>\n",
       "      <th>04</th>\n",
       "      <td>22D (Omicron)</td>\n",
       "      <td>BA.2.75.2</td>\n",
       "      <td>[22D (Omicron)]</td>\n",
       "      <td>[BA.2.75.2]</td>\n",
       "      <td>True</td>\n",
       "      <td>True</td>\n",
       "    </tr>\n",
       "    <tr>\n",
       "      <th>05</th>\n",
       "      <td>22B (Omicron)</td>\n",
       "      <td>BF.21</td>\n",
       "      <td>[]</td>\n",
       "      <td>[]</td>\n",
       "      <td>False</td>\n",
       "      <td>False</td>\n",
       "    </tr>\n",
       "    <tr>\n",
       "      <th>06</th>\n",
       "      <td>22B (Omicron)</td>\n",
       "      <td>BF.27</td>\n",
       "      <td>[22B (Omicron)]</td>\n",
       "      <td>[BF.27]</td>\n",
       "      <td>True</td>\n",
       "      <td>True</td>\n",
       "    </tr>\n",
       "    <tr>\n",
       "      <th>07</th>\n",
       "      <td>22B (Omicron)</td>\n",
       "      <td>BA.5.2.1</td>\n",
       "      <td>[22B (Omicron), recombinant]</td>\n",
       "      <td>[BA.5.2.1, Unassigned]</td>\n",
       "      <td>True</td>\n",
       "      <td>True</td>\n",
       "    </tr>\n",
       "    <tr>\n",
       "      <th>08</th>\n",
       "      <td>22A (Omicron)</td>\n",
       "      <td>BA.4.6</td>\n",
       "      <td>[22A (Omicron)]</td>\n",
       "      <td>[BA.4.6]</td>\n",
       "      <td>True</td>\n",
       "      <td>True</td>\n",
       "    </tr>\n",
       "    <tr>\n",
       "      <th>09</th>\n",
       "      <td>22B (Omicron)</td>\n",
       "      <td>BA.5.2</td>\n",
       "      <td>[nan, recombinant, recombinant]</td>\n",
       "      <td>[nan, Unassigned, Unassigned]</td>\n",
       "      <td>False</td>\n",
       "      <td>False</td>\n",
       "    </tr>\n",
       "    <tr>\n",
       "      <th>10</th>\n",
       "      <td>22B (Omicron)</td>\n",
       "      <td>BE.1.1</td>\n",
       "      <td>[22B (Omicron), 22B (Omicron), 22B (Omicron)]</td>\n",
       "      <td>[Unassigned, BE.1.1, Unassigned]</td>\n",
       "      <td>True</td>\n",
       "      <td>True</td>\n",
       "    </tr>\n",
       "    <tr>\n",
       "      <th>11</th>\n",
       "      <td>22B (Omicron)</td>\n",
       "      <td>BE.1.1</td>\n",
       "      <td>[]</td>\n",
       "      <td>[]</td>\n",
       "      <td>False</td>\n",
       "      <td>False</td>\n",
       "    </tr>\n",
       "    <tr>\n",
       "      <th>12</th>\n",
       "      <td>22B (Omicron)</td>\n",
       "      <td>BF.26</td>\n",
       "      <td>[22B (Omicron)]</td>\n",
       "      <td>[BF.26]</td>\n",
       "      <td>True</td>\n",
       "      <td>True</td>\n",
       "    </tr>\n",
       "    <tr>\n",
       "      <th>13</th>\n",
       "      <td>22A (Omicron)</td>\n",
       "      <td>BA.4.6</td>\n",
       "      <td>[22A (Omicron), 22A (Omicron)]</td>\n",
       "      <td>[BA.4.6.1, BA.4.6]</td>\n",
       "      <td>True</td>\n",
       "      <td>True</td>\n",
       "    </tr>\n",
       "    <tr>\n",
       "      <th>14</th>\n",
       "      <td>22A (Omicron)</td>\n",
       "      <td>BA.4.6</td>\n",
       "      <td>[22A (Omicron), 22A (Omicron)]</td>\n",
       "      <td>[BA.4.6, BA.4.6]</td>\n",
       "      <td>True</td>\n",
       "      <td>True</td>\n",
       "    </tr>\n",
       "    <tr>\n",
       "      <th>16</th>\n",
       "      <td>22B (Omicron)</td>\n",
       "      <td>BA.5.2</td>\n",
       "      <td>[22B (Omicron)]</td>\n",
       "      <td>[Unassigned]</td>\n",
       "      <td>True</td>\n",
       "      <td>False</td>\n",
       "    </tr>\n",
       "  </tbody>\n",
       "</table>\n",
       "</div>"
      ],
      "text/plain": [
       "          R_clade    R_pango                                      Str_clade  \\\n",
       "01  22B (Omicron)   BA.5.2.1                 [22B (Omicron), 22B (Omicron)]   \n",
       "04  22D (Omicron)  BA.2.75.2                                [22D (Omicron)]   \n",
       "05  22B (Omicron)      BF.21                                             []   \n",
       "06  22B (Omicron)      BF.27                                [22B (Omicron)]   \n",
       "07  22B (Omicron)   BA.5.2.1                   [22B (Omicron), recombinant]   \n",
       "08  22A (Omicron)     BA.4.6                                [22A (Omicron)]   \n",
       "09  22B (Omicron)     BA.5.2                [nan, recombinant, recombinant]   \n",
       "10  22B (Omicron)     BE.1.1  [22B (Omicron), 22B (Omicron), 22B (Omicron)]   \n",
       "11  22B (Omicron)     BE.1.1                                             []   \n",
       "12  22B (Omicron)      BF.26                                [22B (Omicron)]   \n",
       "13  22A (Omicron)     BA.4.6                 [22A (Omicron), 22A (Omicron)]   \n",
       "14  22A (Omicron)     BA.4.6                 [22A (Omicron), 22A (Omicron)]   \n",
       "16  22B (Omicron)     BA.5.2                                [22B (Omicron)]   \n",
       "\n",
       "                           Str_pango  Clade  Pango  \n",
       "01          [Unassigned, Unassigned]   True  False  \n",
       "04                       [BA.2.75.2]   True   True  \n",
       "05                                []  False  False  \n",
       "06                           [BF.27]   True   True  \n",
       "07            [BA.5.2.1, Unassigned]   True   True  \n",
       "08                          [BA.4.6]   True   True  \n",
       "09     [nan, Unassigned, Unassigned]  False  False  \n",
       "10  [Unassigned, BE.1.1, Unassigned]   True   True  \n",
       "11                                []  False  False  \n",
       "12                           [BF.26]   True   True  \n",
       "13                [BA.4.6.1, BA.4.6]   True   True  \n",
       "14                  [BA.4.6, BA.4.6]   True   True  \n",
       "16                      [Unassigned]   True  False  "
      ]
     },
     "metadata": {},
     "output_type": "display_data"
    },
    {
     "name": "stdout",
     "output_type": "stream",
     "text": [
      "Clade    10\n",
      "Pango     8\n",
      "dtype: object\n",
      "Clade    0.769231\n",
      "Pango    0.615385\n",
      "dtype: object\n"
     ]
    }
   ],
   "source": [
    "# Above analysis for iHealth strip only\n",
    "lineages = pd.DataFrame(index=genomes_no40.ID.unique(), \\\n",
    "                        columns=['R_clade','R_pango','Str_clade','Str_pango','Clade','Pango'])\n",
    "for i in lineages.index:\n",
    "    lineages['R_clade'].loc[i] = genomes_no40[genomes_no40.Sample==(i+\"_R\")].nextclade_clade.values[0]\n",
    "    lineages['R_pango'].loc[i] = genomes_no40[genomes_no40.Sample==(i+\"_R\")].pango_lineage.values[0]\n",
    "    lineages['Str_clade'].loc[i] = genomes_no40[genomes_no40.Sample.str.contains(pat=i+'_.*[^R]')].nextclade_clade.values\n",
    "    lineages['Str_pango'].loc[i] = genomes_no40[genomes_no40.Sample.str.contains(pat=i+'_.*[^R]')].pango_lineage.values\n",
    "    lineages['Clade'].loc[i] = lineages.R_clade[i] in lineages.Str_clade[i] \n",
    "    lineages['Pango'].loc[i] = lineages.R_pango[i] in lineages.Str_pango[i] \n",
    "\n",
    "display(lineages)\n",
    "print(lineages[['Clade','Pango']].sum())\n",
    "print(lineages[['Clade','Pango']].sum()/13)"
   ]
  },
  {
   "cell_type": "markdown",
   "id": "f2fa1ab0",
   "metadata": {
    "heading_collapsed": true,
    "hidden": true
   },
   "source": [
    "## Gender and age distributions"
   ]
  },
  {
   "cell_type": "code",
   "execution_count": 20,
   "id": "561a11c7",
   "metadata": {
    "hidden": true
   },
   "outputs": [
    {
     "data": {
      "image/png": "[encoded data removed]",
      "text/plain": [
       "<Figure size 360x360 with 1 Axes>"
      ]
     },
     "metadata": {
      "needs_background": "light"
     },
     "output_type": "display_data"
    }
   ],
   "source": [
    "## Gender and age demographics\n",
    "plt.figure(figsize=[5,5])\n",
    "\n",
    "sns.set_style(\"white\") \n",
    "gender_dist = sns.countplot(x=seq_metadata['What is your gender?'],color='darkblue', alpha=0.4,edgecolor='black')\n",
    "\n",
    "plt.xlabel(\"Gender\", fontweight='normal', fontsize=12)\n",
    "plt.ylabel(\"Count\", fontweight='normal', fontsize=12)\n",
    "\n",
    "save_figure('fig/cohort1_gender.svg')"
   ]
  },
  {
   "cell_type": "code",
   "execution_count": 21,
   "id": "4c04656c",
   "metadata": {
    "hidden": true
   },
   "outputs": [
    {
     "name": "stderr",
     "output_type": "stream",
     "text": [
      "/Users/jsilbert/opt/miniconda3/lib/python3.9/site-packages/seaborn/distributions.py:2619: FutureWarning: `distplot` is a deprecated function and will be removed in a future version. Please adapt your code to use either `displot` (a figure-level function with similar flexibility) or `histplot` (an axes-level function for histograms).\n",
      "  warnings.warn(msg, FutureWarning)\n"
     ]
    },
    {
     "data": {
      "image/png": "[encoded data removed]",
      "text/plain": [
       "<Figure size 360x360 with 1 Axes>"
      ]
     },
     "metadata": {},
     "output_type": "display_data"
    }
   ],
   "source": [
    "plt.figure(figsize=[5,5])\n",
    "\n",
    "age_dist = sns.distplot(x=seq_metadata['What is your age in years?'], hist=True, kde=False, \n",
    "             bins=int(30/5), color = 'darkblue', hist_kws={'edgecolor':'black'})\n",
    "plt.xlabel(\"Age\", fontweight='normal', fontsize=12)\n",
    "plt.ylabel(\"Count\", fontweight='normal', fontsize=12)\n",
    "\n",
    "save_figure('fig/cohort1_age.svg')"
   ]
  },
  {
   "cell_type": "markdown",
   "id": "95121b37",
   "metadata": {
    "heading_collapsed": true,
    "hidden": true
   },
   "source": [
    "## iSNV analyses comparing RDTs and PCRs"
   ]
  },
  {
   "cell_type": "code",
   "execution_count": 22,
   "id": "cf35683c",
   "metadata": {
    "hidden": true
   },
   "outputs": [],
   "source": [
    "# return a dataframe for an individual vcf file\n",
    "# quality control: \n",
    "# 1: at least 2F and 2R reads for SNV\n",
    "# 2: AF at least 3%\n",
    "# 3: fisher test for F v. R & iSNV v ref > .01 (corresponds to roughly SB=20 cutoff)\n",
    "def cleaned_vcf(filename, iSNV=False):\n",
    "    df = allel.vcf_to_dataframe(filename, fields=['POS','ID','REF','ALT','QUAL','DP','AF','DP4','SB'])\n",
    "    if df is None:\n",
    "        return df\n",
    "    \n",
    "    df = df[(df.DP4_3>=2)*1 + (df.DP4_4>=2)*1 == 2]\n",
    "    df = df[df.AF_1>=.03]\n",
    "    df = df[[stats.fisher_exact([[df.DP4_1[i],df.DP4_2[i]],[df.DP4_3[i],df.DP4_4[i]]]).pvalue>.01 for i in df.index]]\n",
    "\n",
    "    # iSNVs only\n",
    "    if iSNV:\n",
    "        df = df[df.AF_1<0.5]\n",
    "    \n",
    "    return df.reset_index(drop=True)\n",
    "\n",
    "# return a dataframe for an individual coverage plot (txt file)\n",
    "# only return locations with DP>10 (or other value entered into function)\n",
    "def cleaned_cov(filename, DP=10):\n",
    "    df = pd.read_csv(filename, sep='\\t', header=None, names=['Ref','POS','DP'])\n",
    "    return df[df.DP>=DP].reset_index(drop=True)\n",
    "\n",
    "def return_SNVs(df, iSNV=False, consensus=False):\n",
    "    if iSNV == True:\n",
    "        return set([df.REF[i]+str(df.POS[i])+df.ALT_1[i] for i in df.index if df.AF_1[i]<0.5])\n",
    "    elif consensus == True:\n",
    "        return set([df.REF[i]+str(df.POS[i])+df.ALT_1[i] for i in df.index if df.AF_1[i]>=0.5])\n",
    "    else:\n",
    "        return set([df.REF[i]+str(df.POS[i])+df.ALT_1[i] for i in df.index])\n",
    "    \n",
    "# function that takes the number of samples (i.e. SNVs not shared), & percentage of them with given value\n",
    "# (i.e. how many SNVs were from RDT only), and returns p value for whether this is from equally distributed pop\n",
    "# double-sided test\n",
    "def permutation_from_50(n,p,seed=0):\n",
    "    random.seed(seed)\n",
    "    percentages = [np.array(random.choices([0,1],k=n)).mean() for i in range(int(1e5))]\n",
    "    return np.mean(np.abs(np.array(percentages)-.5)>np.abs(p-.5))"
   ]
  },
  {
   "cell_type": "code",
   "execution_count": 23,
   "id": "b37fe4f2",
   "metadata": {
    "hidden": true,
    "scrolled": false
   },
   "outputs": [],
   "source": [
    "# curate all vcf files, all coverage_plot.txt files (dataframe with filename, Sample name, patient ID)\n",
    "vcf_files, cov_files = pd.DataFrame(), pd.DataFrame()\n",
    "vcf_files['filename'] = !ls ../vcf/*.vcf\n",
    "cov_files['filename'] = !ls ../covplot/*.txt\n",
    "\n",
    "for i, df in enumerate([vcf_files, cov_files]): # add in columns for Sample name & patient ID\n",
    "    df['Sample'] = [i[2].split('.')[0].replace('strip','str') for i in df.filename.str.split('/')]\n",
    "    df['ID'] = [s[0:2] for s in df.Sample]\n",
    "    \n",
    "# limit to files that were actually sequenced, and that have more than one sample per individual; cohort #1 only\n",
    "vcf_files = vcf_files[[s in list(genome_data_1[genome_data_1.Percent>0].Sample) for s in vcf_files.Sample]]\n",
    "cov_files = cov_files[[s in list(genome_data_1[genome_data_1.Percent>0].Sample) for s in cov_files.Sample]]\n",
    "vcf_files = vcf_files[[ID not in vcf_files.ID.unique()[vcf_files.groupby('ID').count()['Sample']==1] \\\n",
    "         for ID in vcf_files.ID]].reset_index(drop=True)\n",
    "cov_files = cov_files[[ID not in cov_files.ID.unique()[cov_files.groupby('ID').count()['Sample']==1] \\\n",
    "         for ID in cov_files.ID]].reset_index(drop=True)\n",
    "\n",
    "# let's store in a dataframe:\n",
    "# Number of: consensus SNVs in both samples, separately & together\n",
    "# Number of: iSNVs in both samples, separately & together\n",
    "# Number of: consensus SNVs & iSNVs that are seen in only one sample\n",
    "df_comparisons = pd.DataFrame(columns=['R','other',\\\n",
    "                                       'SNV_R','SNV_o',\\\n",
    "                                       'iSNV_R','iSNV_o',\\\n",
    "                                       'SNV_not_shared','iSNV_not_shared',\\\n",
    "                                       'SNV_all','iSNV_all'])\n",
    "\n",
    "# let's store in dataframe:\n",
    "# relevant information for any (i)SNVs present in PCR but not RDT, or RDT but not PCR\n",
    "# and also all SNVs\n",
    "merged_notshared = pd.DataFrame()\n",
    "merged_all = pd.DataFrame()\n",
    "\n",
    "# take samples from same individual, R v. each other sample pairwise\n",
    "for R in vcf_files.filename[vcf_files.filename.str.contains('_R')]:\n",
    "    i = np.where(vcf_files.filename==R)[0][0]\n",
    "    others_vcf = vcf_files[(vcf_files.ID==vcf_files.ID[i]) & (vcf_files.filename!=R)]\n",
    "    others_cov = cov_files[(cov_files.ID==cov_files.ID[i]) & (cov_files.index!=i)]    \n",
    "    for o in range(len(others_cov)): # to actually compare R to each other sample pairwise\n",
    "        # use coverage_plot.txt to select only regions of shared coverage (depth >= 10)\n",
    "        cov1 = cleaned_cov(cov_files[cov_files.Sample==cov_files.Sample[i]].filename.values[0], DP=100)\n",
    "        cov2 = cleaned_cov(others_cov.filename.values[o], DP=100)\n",
    "        shared = set(cov1.POS) & set(cov2.POS)\n",
    "        \n",
    "        # get cleaned_vcf dataframes for both samples being compared; limit both to shared positions\n",
    "        vcf1 = cleaned_vcf(vcf_files[vcf_files.Sample==vcf_files.Sample[i]].filename.values[0])\n",
    "        vcf2 = cleaned_vcf(others_vcf.filename.values[o])\n",
    "        if vcf1 is not None and vcf2 is not None:\n",
    "            vcf1 = vcf1[vcf1.POS.isin(shared)].reset_index(drop=True)\n",
    "            vcf2 = vcf2[vcf2.POS.isin(shared)].reset_index(drop=True)\n",
    "\n",
    "            # get SNVs for both limited dataframes; compare the two sets\n",
    "            a = return_SNVs(vcf1, consensus=True) # PCR consensus level\n",
    "            A = return_SNVs(vcf2, consensus=True) # RDT consensus level\n",
    "            b = return_SNVs(vcf1, iSNV=True)      # PCR iSNV\n",
    "            B = return_SNVs(vcf2, iSNV=True)      # RDT iSNV\n",
    "            if len(a) > 0 and len(A) > 0:\n",
    "                row = [vcf_files.Sample[i], others_cov.Sample.values[o],\n",
    "                       len(a), len(A), len(b), len(B), \n",
    "                       len((a-(A|B)) | (A-(a|b))), len((b-(A|B)) | (B-(a|b))),\n",
    "                       len(a|A), len(b|B)]\n",
    "                df_comparisons.loc[len(df_comparisons.index)] = row\n",
    "            \n",
    "            # combine vcfs, and add SNVs that weren't shared to a master VCF file\n",
    "            tmp = vcf1[['POS','ALT_1','DP','AF_1']].merge(vcf2[['POS','ALT_1','DP','AF_1']],\\\n",
    "                                                          how='outer',on=['POS'])\n",
    "            tmp['Sample'] = others_cov.Sample.values[0] # add in sample name for non-PCR sample\n",
    "            tmp.DP_x = [cov1[cov1.POS==x].DP.values[0] for x in tmp.POS] # fill in DP for nans\n",
    "            tmp.DP_y = [cov2[cov2.POS==x].DP.values[0] for x in tmp.POS]\n",
    "            merged_notshared = merged_notshared.append(tmp[tmp.isna().any(axis=1)])\n",
    "            merged_all = merged_all.append(tmp)\n",
    "\n",
    "# add additional columns to dataframe\n",
    "df_comparisons[df_comparisons.columns[2:]] = df_comparisons[df_comparisons.columns[2:]].astype('Int64')\n",
    "df_comparisons['%notshared_SNV'] = df_comparisons['SNV_not_shared']/df_comparisons['SNV_all']*100\n",
    "df_comparisons['%notshared_iSNV'] = df_comparisons['iSNV_not_shared']/df_comparisons['iSNV_all']*100\n",
    "df_comparisons[df_comparisons.columns[-2:]] = df_comparisons[df_comparisons.columns[-2:]].round(1)"
   ]
  },
  {
   "cell_type": "code",
   "execution_count": 24,
   "id": "52d3d6c2",
   "metadata": {
    "hidden": true
   },
   "outputs": [
    {
     "data": {
      "text/html": [
       "<div>\n",
       "<style scoped>\n",
       "    .dataframe tbody tr th:only-of-type {\n",
       "        vertical-align: middle;\n",
       "    }\n",
       "\n",
       "    .dataframe tbody tr th {\n",
       "        vertical-align: top;\n",
       "    }\n",
       "\n",
       "    .dataframe thead th {\n",
       "        text-align: right;\n",
       "    }\n",
       "</style>\n",
       "<table border=\"1\" class=\"dataframe\">\n",
       "  <thead>\n",
       "    <tr style=\"text-align: right;\">\n",
       "      <th></th>\n",
       "      <th>R</th>\n",
       "      <th>other</th>\n",
       "      <th>SNV_R</th>\n",
       "      <th>SNV_o</th>\n",
       "      <th>iSNV_R</th>\n",
       "      <th>iSNV_o</th>\n",
       "      <th>SNV_not_shared</th>\n",
       "      <th>iSNV_not_shared</th>\n",
       "      <th>SNV_all</th>\n",
       "      <th>iSNV_all</th>\n",
       "      <th>%notshared_SNV</th>\n",
       "      <th>%notshared_iSNV</th>\n",
       "    </tr>\n",
       "  </thead>\n",
       "  <tbody>\n",
       "    <tr>\n",
       "      <th>0</th>\n",
       "      <td>01_R</td>\n",
       "      <td>01_B1_swab</td>\n",
       "      <td>18</td>\n",
       "      <td>18</td>\n",
       "      <td>2</td>\n",
       "      <td>0</td>\n",
       "      <td>2</td>\n",
       "      <td>2</td>\n",
       "      <td>19</td>\n",
       "      <td>2</td>\n",
       "      <td>10.5</td>\n",
       "      <td>100.0</td>\n",
       "    </tr>\n",
       "    <tr>\n",
       "      <th>1</th>\n",
       "      <td>01_R</td>\n",
       "      <td>01_Q2_str</td>\n",
       "      <td>21</td>\n",
       "      <td>27</td>\n",
       "      <td>1</td>\n",
       "      <td>3</td>\n",
       "      <td>6</td>\n",
       "      <td>4</td>\n",
       "      <td>27</td>\n",
       "      <td>4</td>\n",
       "      <td>22.2</td>\n",
       "      <td>100.0</td>\n",
       "    </tr>\n",
       "    <tr>\n",
       "      <th>2</th>\n",
       "      <td>04_R</td>\n",
       "      <td>04_B2_swab</td>\n",
       "      <td>24</td>\n",
       "      <td>23</td>\n",
       "      <td>2</td>\n",
       "      <td>4</td>\n",
       "      <td>0</td>\n",
       "      <td>5</td>\n",
       "      <td>24</td>\n",
       "      <td>6</td>\n",
       "      <td>0.0</td>\n",
       "      <td>83.3</td>\n",
       "    </tr>\n",
       "    <tr>\n",
       "      <th>3</th>\n",
       "      <td>06_R</td>\n",
       "      <td>06_Q2_tube</td>\n",
       "      <td>31</td>\n",
       "      <td>35</td>\n",
       "      <td>1</td>\n",
       "      <td>11</td>\n",
       "      <td>4</td>\n",
       "      <td>10</td>\n",
       "      <td>35</td>\n",
       "      <td>11</td>\n",
       "      <td>11.4</td>\n",
       "      <td>90.9</td>\n",
       "    </tr>\n",
       "    <tr>\n",
       "      <th>4</th>\n",
       "      <td>07_R</td>\n",
       "      <td>07_B2_swab</td>\n",
       "      <td>38</td>\n",
       "      <td>39</td>\n",
       "      <td>9</td>\n",
       "      <td>10</td>\n",
       "      <td>1</td>\n",
       "      <td>17</td>\n",
       "      <td>39</td>\n",
       "      <td>18</td>\n",
       "      <td>2.6</td>\n",
       "      <td>94.4</td>\n",
       "    </tr>\n",
       "    <tr>\n",
       "      <th>5</th>\n",
       "      <td>07_R</td>\n",
       "      <td>07_Q1_str</td>\n",
       "      <td>1</td>\n",
       "      <td>1</td>\n",
       "      <td>0</td>\n",
       "      <td>0</td>\n",
       "      <td>0</td>\n",
       "      <td>0</td>\n",
       "      <td>1</td>\n",
       "      <td>0</td>\n",
       "      <td>0.0</td>\n",
       "      <td>NaN</td>\n",
       "    </tr>\n",
       "    <tr>\n",
       "      <th>6</th>\n",
       "      <td>08_R</td>\n",
       "      <td>08_B2_swab</td>\n",
       "      <td>33</td>\n",
       "      <td>32</td>\n",
       "      <td>2</td>\n",
       "      <td>5</td>\n",
       "      <td>7</td>\n",
       "      <td>7</td>\n",
       "      <td>36</td>\n",
       "      <td>7</td>\n",
       "      <td>19.4</td>\n",
       "      <td>100.0</td>\n",
       "    </tr>\n",
       "    <tr>\n",
       "      <th>7</th>\n",
       "      <td>09_R</td>\n",
       "      <td>09_iH</td>\n",
       "      <td>3</td>\n",
       "      <td>3</td>\n",
       "      <td>0</td>\n",
       "      <td>0</td>\n",
       "      <td>0</td>\n",
       "      <td>0</td>\n",
       "      <td>3</td>\n",
       "      <td>0</td>\n",
       "      <td>0.0</td>\n",
       "      <td>NaN</td>\n",
       "    </tr>\n",
       "    <tr>\n",
       "      <th>8</th>\n",
       "      <td>10_R</td>\n",
       "      <td>10_B1_str</td>\n",
       "      <td>27</td>\n",
       "      <td>29</td>\n",
       "      <td>0</td>\n",
       "      <td>0</td>\n",
       "      <td>4</td>\n",
       "      <td>0</td>\n",
       "      <td>30</td>\n",
       "      <td>0</td>\n",
       "      <td>13.3</td>\n",
       "      <td>NaN</td>\n",
       "    </tr>\n",
       "    <tr>\n",
       "      <th>9</th>\n",
       "      <td>10_R</td>\n",
       "      <td>10_B2_swab</td>\n",
       "      <td>63</td>\n",
       "      <td>65</td>\n",
       "      <td>0</td>\n",
       "      <td>2</td>\n",
       "      <td>4</td>\n",
       "      <td>2</td>\n",
       "      <td>66</td>\n",
       "      <td>2</td>\n",
       "      <td>6.1</td>\n",
       "      <td>100.0</td>\n",
       "    </tr>\n",
       "    <tr>\n",
       "      <th>10</th>\n",
       "      <td>10_R</td>\n",
       "      <td>10_iH</td>\n",
       "      <td>34</td>\n",
       "      <td>38</td>\n",
       "      <td>0</td>\n",
       "      <td>0</td>\n",
       "      <td>4</td>\n",
       "      <td>0</td>\n",
       "      <td>38</td>\n",
       "      <td>0</td>\n",
       "      <td>10.5</td>\n",
       "      <td>NaN</td>\n",
       "    </tr>\n",
       "    <tr>\n",
       "      <th>11</th>\n",
       "      <td>12_R</td>\n",
       "      <td>12_Q1_str</td>\n",
       "      <td>44</td>\n",
       "      <td>47</td>\n",
       "      <td>1</td>\n",
       "      <td>12</td>\n",
       "      <td>5</td>\n",
       "      <td>13</td>\n",
       "      <td>48</td>\n",
       "      <td>13</td>\n",
       "      <td>10.4</td>\n",
       "      <td>100.0</td>\n",
       "    </tr>\n",
       "    <tr>\n",
       "      <th>12</th>\n",
       "      <td>13_R</td>\n",
       "      <td>13_B2_swab</td>\n",
       "      <td>21</td>\n",
       "      <td>22</td>\n",
       "      <td>0</td>\n",
       "      <td>4</td>\n",
       "      <td>1</td>\n",
       "      <td>4</td>\n",
       "      <td>22</td>\n",
       "      <td>4</td>\n",
       "      <td>4.5</td>\n",
       "      <td>100.0</td>\n",
       "    </tr>\n",
       "    <tr>\n",
       "      <th>13</th>\n",
       "      <td>13_R</td>\n",
       "      <td>13_Q1_str</td>\n",
       "      <td>67</td>\n",
       "      <td>63</td>\n",
       "      <td>0</td>\n",
       "      <td>12</td>\n",
       "      <td>6</td>\n",
       "      <td>12</td>\n",
       "      <td>68</td>\n",
       "      <td>12</td>\n",
       "      <td>8.8</td>\n",
       "      <td>100.0</td>\n",
       "    </tr>\n",
       "    <tr>\n",
       "      <th>14</th>\n",
       "      <td>14_R</td>\n",
       "      <td>14_B2_swab</td>\n",
       "      <td>43</td>\n",
       "      <td>45</td>\n",
       "      <td>1</td>\n",
       "      <td>15</td>\n",
       "      <td>4</td>\n",
       "      <td>16</td>\n",
       "      <td>46</td>\n",
       "      <td>16</td>\n",
       "      <td>8.7</td>\n",
       "      <td>100.0</td>\n",
       "    </tr>\n",
       "    <tr>\n",
       "      <th>15</th>\n",
       "      <td>14_R</td>\n",
       "      <td>14_Q1_str</td>\n",
       "      <td>32</td>\n",
       "      <td>36</td>\n",
       "      <td>2</td>\n",
       "      <td>4</td>\n",
       "      <td>4</td>\n",
       "      <td>6</td>\n",
       "      <td>36</td>\n",
       "      <td>6</td>\n",
       "      <td>11.1</td>\n",
       "      <td>100.0</td>\n",
       "    </tr>\n",
       "    <tr>\n",
       "      <th>16</th>\n",
       "      <td>16_R</td>\n",
       "      <td>16_iH</td>\n",
       "      <td>33</td>\n",
       "      <td>33</td>\n",
       "      <td>6</td>\n",
       "      <td>1</td>\n",
       "      <td>2</td>\n",
       "      <td>7</td>\n",
       "      <td>34</td>\n",
       "      <td>7</td>\n",
       "      <td>5.9</td>\n",
       "      <td>100.0</td>\n",
       "    </tr>\n",
       "  </tbody>\n",
       "</table>\n",
       "</div>"
      ],
      "text/plain": [
       "       R       other  SNV_R  SNV_o  iSNV_R  iSNV_o  SNV_not_shared  \\\n",
       "0   01_R  01_B1_swab     18     18       2       0               2   \n",
       "1   01_R   01_Q2_str     21     27       1       3               6   \n",
       "2   04_R  04_B2_swab     24     23       2       4               0   \n",
       "3   06_R  06_Q2_tube     31     35       1      11               4   \n",
       "4   07_R  07_B2_swab     38     39       9      10               1   \n",
       "5   07_R   07_Q1_str      1      1       0       0               0   \n",
       "6   08_R  08_B2_swab     33     32       2       5               7   \n",
       "7   09_R       09_iH      3      3       0       0               0   \n",
       "8   10_R   10_B1_str     27     29       0       0               4   \n",
       "9   10_R  10_B2_swab     63     65       0       2               4   \n",
       "10  10_R       10_iH     34     38       0       0               4   \n",
       "11  12_R   12_Q1_str     44     47       1      12               5   \n",
       "12  13_R  13_B2_swab     21     22       0       4               1   \n",
       "13  13_R   13_Q1_str     67     63       0      12               6   \n",
       "14  14_R  14_B2_swab     43     45       1      15               4   \n",
       "15  14_R   14_Q1_str     32     36       2       4               4   \n",
       "16  16_R       16_iH     33     33       6       1               2   \n",
       "\n",
       "    iSNV_not_shared  SNV_all  iSNV_all  %notshared_SNV  %notshared_iSNV  \n",
       "0                 2       19         2            10.5            100.0  \n",
       "1                 4       27         4            22.2            100.0  \n",
       "2                 5       24         6             0.0             83.3  \n",
       "3                10       35        11            11.4             90.9  \n",
       "4                17       39        18             2.6             94.4  \n",
       "5                 0        1         0             0.0              NaN  \n",
       "6                 7       36         7            19.4            100.0  \n",
       "7                 0        3         0             0.0              NaN  \n",
       "8                 0       30         0            13.3              NaN  \n",
       "9                 2       66         2             6.1            100.0  \n",
       "10                0       38         0            10.5              NaN  \n",
       "11               13       48        13            10.4            100.0  \n",
       "12                4       22         4             4.5            100.0  \n",
       "13               12       68        12             8.8            100.0  \n",
       "14               16       46        16             8.7            100.0  \n",
       "15                6       36         6            11.1            100.0  \n",
       "16                7       34         7             5.9            100.0  "
      ]
     },
     "execution_count": 24,
     "metadata": {},
     "output_type": "execute_result"
    }
   ],
   "source": [
    "df_comparisons"
   ]
  },
  {
   "cell_type": "code",
   "execution_count": 25,
   "id": "3034998f",
   "metadata": {
    "hidden": true
   },
   "outputs": [],
   "source": [
    "def print_relevant_info(df_comp, merged_NS):\n",
    "    tmp1 = df_comp.sum()\n",
    "    print('# of SNVs not seen in other:', tmp1.SNV_not_shared)\n",
    "    print('# of iSNVs not seen in other:', tmp1.iSNV_not_shared)\n",
    "    print('% of SNVs not seen in other:', tmp1.SNV_not_shared/tmp1.SNV_all)\n",
    "    print('% of iSNVs not seen in other:', tmp1.iSNV_not_shared/tmp1.iSNV_all)\n",
    "    tmp2 = merged_NS[(merged_NS.AF_1_x>=.05) | (merged_NS.AF_1_y>=0.5)].isna().sum()\n",
    "    print('% of SNVs not seen, which were in RDT:', tmp2.ALT_1_x / (tmp2.ALT_1_x+tmp2.ALT_1_y))\n",
    "    print('p value for this:', permutation_from_50(tmp1.SNV_not_shared, tmp2.ALT_1_x / (tmp2.ALT_1_x+tmp2.ALT_1_y)))\n",
    "    tmp3 = merged_NS[(merged_NS.AF_1_x<.05) | (merged_NS.AF_1_y<0.5)].isna().sum()\n",
    "    print('% of iSNVs not seen, which were in RDT:', tmp3.ALT_1_x / (tmp3.ALT_1_x+tmp3.ALT_1_y))\n",
    "    print('p value for this:', permutation_from_50(tmp1.iSNV_not_shared, tmp3.ALT_1_x / (tmp3.ALT_1_x+tmp3.ALT_1_y)))"
   ]
  },
  {
   "cell_type": "code",
   "execution_count": 26,
   "id": "b398a7b3",
   "metadata": {
    "hidden": true
   },
   "outputs": [
    {
     "name": "stdout",
     "output_type": "stream",
     "text": [
      "FOR ALL:\n",
      "# of SNVs not seen in other: 54\n",
      "# of iSNVs not seen in other: 105\n",
      "% of SNVs not seen in other: 0.0944055944055944\n",
      "% of iSNVs not seen in other: 0.9722222222222222\n",
      "% of SNVs not seen, which were in RDT: 0.6\n",
      "p value for this: 0.1344\n",
      "% of iSNVs not seen, which were in RDT: 0.851063829787234\n",
      "p value for this: 0.0\n",
      "\n",
      "FOR SWABS ONLY:\n",
      "# of SNVs not seen in other: 19\n",
      "# of iSNVs not seen in other: 53\n",
      "% of SNVs not seen in other: 0.07539682539682539\n",
      "% of iSNVs not seen in other: 0.9636363636363636\n",
      "% of SNVs not seen, which were in RDT: 0.5405405405405406\n",
      "p value for this: 0.64822\n",
      "% of iSNVs not seen, which were in RDT: 0.8208955223880597\n",
      "p value for this: 0.0\n",
      "\n",
      "FOR STRIPS ONLY:\n",
      "# of SNVs not seen in other: 31\n",
      "# of iSNVs not seen in other: 42\n",
      "% of SNVs not seen in other: 0.10877192982456141\n",
      "% of iSNVs not seen in other: 1.0\n",
      "% of SNVs not seen, which were in RDT: 0.625\n",
      "p value for this: 0.15169\n",
      "% of iSNVs not seen, which were in RDT: 0.8823529411764706\n",
      "p value for this: 0.0\n"
     ]
    }
   ],
   "source": [
    "print('FOR ALL:')\n",
    "print_relevant_info(df_comparisons, merged_notshared)\n",
    "\n",
    "print('\\nFOR SWABS ONLY:')\n",
    "df_comp = df_comparisons[df_comparisons.other.str.contains('swab')]\n",
    "merged_NS = merged_notshared[merged_notshared.Sample.str.contains('swab')]\n",
    "print_relevant_info(df_comp, merged_NS)\n",
    "\n",
    "print('\\nFOR STRIPS ONLY:')\n",
    "df_comp = df_comparisons[df_comparisons.other.str.contains('str') | df_comparisons.other.str.contains('iH')]\n",
    "merged_NS = merged_notshared[merged_notshared.Sample.str.contains('str') | merged_notshared.Sample.str.contains('iH')]\n",
    "print_relevant_info(df_comp, merged_NS)"
   ]
  },
  {
   "cell_type": "code",
   "execution_count": 27,
   "id": "7b872f5f",
   "metadata": {
    "hidden": true
   },
   "outputs": [
    {
     "data": {
      "image/png": "[encoded data removed]",
      "text/plain": [
       "<Figure size 360x360 with 2 Axes>"
      ]
     },
     "metadata": {},
     "output_type": "display_data"
    }
   ],
   "source": [
    "#1x2 plot, comparing pcr to rdt; for either SNV or iSNV\n",
    "f, ax = plt.subplots(1,2, figsize=[5,5])\n",
    "\n",
    "# define function that will return numbers we need for barplot\n",
    "def return_relevant_numbers(df,iSNV=False):\n",
    "    if iSNV==False:\n",
    "        n_PCR = sum(df.AF_1_x>=0.5)\n",
    "        n_RDTandPCR = sum((df.AF_1_y>=0.5) & (df.AF_1_x>=0.5))\n",
    "        n_RDT = sum(df.AF_1_y>=0.5)\n",
    "    elif iSNV==True:\n",
    "        n_PCR = sum(df.AF_1_x<0.5)\n",
    "        n_RDTandPCR = sum((df.AF_1_y<0.5) & (df.AF_1_x<0.5))\n",
    "        n_RDT = sum(df.AF_1_y<0.5)\n",
    "    return([n_PCR, n_RDTandPCR, n_RDT])\n",
    "\n",
    "# define function that will plot\n",
    "def return_relevant_plot(results, rdt_type, ax, iSNV=False):\n",
    "    data = pd.DataFrame({'type':['PCR',rdt_type],'bottom':[results[0],results[1]],'top':[0,results[2]]})\n",
    "    sns.barplot(ax=ax,data=data,x='type',y='top',color='gray',label='RDT only', linewidth=0)\n",
    "    sns.barplot(ax=ax,data=data,x='type',y='bottom',color='black',label='PCR', linewidth=0)\n",
    "    ax.legend()\n",
    "    ax.set_xlabel('')\n",
    "    ax.set_ylabel('Number of '+'i'*iSNV+'SNVs')\n",
    "    if iSNV:\n",
    "        ax.set_ylim([0,105])\n",
    "    else:\n",
    "        ax.set_ylim([0,470])\n",
    "\n",
    "# SNV v. iSNV\n",
    "return_relevant_plot(return_relevant_numbers(merged_all), 'RDT', ax[0])\n",
    "ax[0].set_ylim([0,670])\n",
    "return_relevant_plot(return_relevant_numbers(merged_all, iSNV=True), 'RDT', ax[1], iSNV=True)\n",
    "\n",
    "save_figure('fig/genomic_SNVs_iSNVs.svg')"
   ]
  },
  {
   "cell_type": "code",
   "execution_count": 28,
   "id": "806e9d45",
   "metadata": {
    "hidden": true
   },
   "outputs": [
    {
     "name": "stdout",
     "output_type": "stream",
     "text": [
      "Fisher for consensus-level SNVs, RDT strip v. RDT swab:\n",
      "[[290, 31], [197, 19]]\n",
      "SignificanceResult(statistic=0.9022433273292942, pvalue=0.764520927168246)\n",
      "\n",
      "Fisher for iSNVs, RDT strip v. RDT swab:\n",
      "[[2, 73], [0, 22]]\n",
      "SignificanceResult(statistic=inf, pvalue=1.0)\n"
     ]
    }
   ],
   "source": [
    "# fisher's test with 2x2 table of rdt swab vs rdt strip and concordant SNVs (number not %) vs discordant SNVs\n",
    "df_swab  = merged_all[merged_all.Sample.str.contains('swab') & \\\n",
    "                      ((merged_all.AF_1_x>=0.5) | (merged_all.AF_1_y>=0.5))]\n",
    "df_strip = merged_all[(merged_all.Sample.str.contains('str') | merged_all.Sample.str.contains('iH')) & \\\n",
    "                      ((merged_all.AF_1_x>=0.5) | (merged_all.AF_1_y>=0.5))]\n",
    "\n",
    "def relevant_fisher_test(df_swab, df_strip):\n",
    "    swab_disc  = df_swab.isna().ALT_1_x.sum()  + df_swab.isna().ALT_1_y.sum()\n",
    "    strip_disc = df_strip.isna().ALT_1_x.sum() + df_strip.isna().ALT_1_y.sum()\n",
    "\n",
    "    test = [[len(df_swab)-swab_disc,   swab_disc], \\\n",
    "            [len(df_strip)-strip_disc, strip_disc]]\n",
    "    print(test)\n",
    "    print(stats.fisher_exact(test))\n",
    "\n",
    "print('Fisher for consensus-level SNVs, RDT strip v. RDT swab:')\n",
    "relevant_fisher_test(df_swab, df_strip)\n",
    "\n",
    "# fisher's test with 2x2 table of rdt swab vs rdt strip and concordant iSNVs (number not %) vs discordant iSNVs\n",
    "df_swab  = merged_all[merged_all.Sample.str.contains('swab') & \\\n",
    "                      ((merged_all.AF_1_x<0.5) | (merged_all.AF_1_y<0.5))]\n",
    "df_strip = merged_all[(merged_all.Sample.str.contains('str') | merged_all.Sample.str.contains('iH')) & \\\n",
    "                      ((merged_all.AF_1_x<0.5) | (merged_all.AF_1_y<0.5))]\n",
    "\n",
    "print('\\nFisher for iSNVs, RDT strip v. RDT swab:')\n",
    "relevant_fisher_test(df_swab, df_strip)"
   ]
  },
  {
   "cell_type": "markdown",
   "id": "888c33aa",
   "metadata": {},
   "source": [
    "# Cohort 2: MPHN2 senior housing outbreak"
   ]
  },
  {
   "cell_type": "markdown",
   "id": "02f1a6aa",
   "metadata": {},
   "source": [
    "## Data tables"
   ]
  },
  {
   "cell_type": "code",
   "execution_count": 29,
   "id": "91b31c29",
   "metadata": {},
   "outputs": [],
   "source": [
    "# Samples to keep (other samples were SARS-CoV-2 negative per rapid tests)\n",
    "TOKEEP = [str(i) for i in [209,301,314,315,407,501,514,518,808,904]]"
   ]
  },
  {
   "cell_type": "code",
   "execution_count": 30,
   "id": "0448b674",
   "metadata": {},
   "outputs": [],
   "source": [
    "# clean up pcr data table\n",
    "MPHN2 = MPHN2_pcr\n",
    "MPHN2 = PCR_results(MPHN2).rename(columns={'Sample Name':'Sample','CT':'value'})\n",
    "MPHN2['value'] = MPHN2['value'].replace('Undetermined', 40)\n",
    "\n",
    "# add column for type & for ID\n",
    "MPHN2['variable'] = pd.Series([i[-1] for i in MPHN2.Sample.str.split('_')]).str.capitalize()\n",
    "MPHN2.loc[[t in [str(x) for x in range(6)] for t in MPHN2.variable],'variable'] = 'Water Control'\n",
    "MPHN2.loc[MPHN2.variable=='Liquid','variable'] = 'Buffer'\n",
    "MPHN2['ID'] = [MPHN2.Sample[i][0:3] if MPHN2.variable[i] in ['Swab','Buffer','Strip'] \\\n",
    "               else '' for i in range(len(MPHN2))]\n",
    "\n",
    "# drop samples that were already known as SARS-CoV-2 negative\n",
    "MPHN2 = MPHN2.drop([i for i in range(len(MPHN2)) if MPHN2.ID[i] not in TOKEEP]).reset_index(drop=True)"
   ]
  },
  {
   "cell_type": "code",
   "execution_count": 31,
   "id": "6d7e7502",
   "metadata": {},
   "outputs": [],
   "source": [
    "# clean up genomic data to have standard ID/sample name\n",
    "genome_data_2 = genomes.rename(columns={'entity:batch132RDTs_id':'Sample'}).copy()\n",
    "genome_data_2['Sample'] = [item[0] for item in genome_data_2['Sample'].str.split('.')]\n",
    "genome_data_2['ID'] = [s[0:3] for s in genome_data_2.Sample]\n",
    "\n",
    "# add extra metrics\n",
    "LENGTH = 29903\n",
    "genome_data_2['value'] = genome_data_2['assembly_length_unambiguous']/LENGTH\n",
    "genome_data_2['Percent>80'] = genome_data_2.value > .8\n",
    "\n",
    "# merge with other dataframe to limit to appropriate samples\n",
    "genome_data_2 = pd.merge(genome_data_2, MPHN2[['Sample','variable','value']].rename(columns={'value':'Cq'}),\\\n",
    "                       how='right', on='Sample')"
   ]
  },
  {
   "cell_type": "markdown",
   "id": "381497d9",
   "metadata": {},
   "source": [
    "## Genome stats"
   ]
  },
  {
   "cell_type": "code",
   "execution_count": 32,
   "id": "9c296ed6",
   "metadata": {},
   "outputs": [
    {
     "name": "stderr",
     "output_type": "stream",
     "text": [
      "<ipython-input-32-53f6f6f7f7d3>:6: SettingWithCopyWarning: \n",
      "A value is trying to be set on a copy of a slice from a DataFrame.\n",
      "Try using .loc[row_indexer,col_indexer] = value instead\n",
      "\n",
      "See the caveats in the documentation: https://pandas.pydata.org/pandas-docs/stable/user_guide/indexing.html#returning-a-view-versus-a-copy\n",
      "  genomes_no40['Percent>80'] = [g>.8 for g in genomes_no40.value]\n",
      "<ipython-input-32-53f6f6f7f7d3>:7: SettingWithCopyWarning: \n",
      "A value is trying to be set on a copy of a slice from a DataFrame.\n",
      "Try using .loc[row_indexer,col_indexer] = value instead\n",
      "\n",
      "See the caveats in the documentation: https://pandas.pydata.org/pandas-docs/stable/user_guide/indexing.html#returning-a-view-versus-a-copy\n",
      "  genomes_no40['Percent>10'] = [g>.1 for g in genomes_no40.value]\n",
      "<ipython-input-32-53f6f6f7f7d3>:15: FutureWarning: Dropping invalid columns in DataFrameGroupBy.min is deprecated. In a future version, a TypeError will be raised. Before calling .min, select only columns which should be valid for the function.\n",
      "  'MinCt':genomes_no40.groupby('variable').min()['Cq'],\\\n",
      "<ipython-input-32-53f6f6f7f7d3>:16: FutureWarning: Dropping invalid columns in DataFrameGroupBy.max is deprecated. In a future version, a TypeError will be raised. Before calling .max, select only columns which should be valid for the function.\n",
      "  'MaxCt':genomes_no40.groupby('variable').max()['Cq'],\\\n"
     ]
    }
   ],
   "source": [
    "# return relevant statistics in terms of how many samples had Cts, complete genomes, etc\n",
    "\n",
    "# update dataframes with columns that will enable groupby() analyses\n",
    "genome_data_2['Ct<40'] = [g<40 for g in genome_data_2.Cq]\n",
    "genomes_no40 = genome_data_2[genome_data_2['Ct<40']]\n",
    "genomes_no40['Percent>80'] = [g>.8 for g in genomes_no40.value]\n",
    "genomes_no40['Percent>10'] = [g>.1 for g in genomes_no40.value]\n",
    "\n",
    "# calculate the various stats we want\n",
    "genome_stats = pd.DataFrame({# Number & percent of samples with viral material, & total samples\n",
    "                            'NumberPositive':genome_data_2.groupby('variable').sum()['Ct<40'],\\\n",
    "                            'NumberSamples':genome_data_2.groupby('variable').count()['Cq'],\\\n",
    "                            'PercentWithCt':genome_data_2.groupby('variable').mean()['Ct<40'],\\\n",
    "                            # Ct range of positive samples, and mean\n",
    "                            'MinCt':genomes_no40.groupby('variable').min()['Cq'],\\\n",
    "                            'MaxCt':genomes_no40.groupby('variable').max()['Cq'],\\\n",
    "                            'MeanCt':genomes_no40.groupby('variable').mean()['Cq'],\\\n",
    "                            # Number & percent of positive samples with complete genomes; & number sequenced\n",
    "                            'NumberSequenced':genomes_no40.groupby('variable').count()['Cq'],\\\n",
    "                            'NumberComplete':genomes_no40.groupby('variable').sum()['Percent>80'],\\\n",
    "                            'PercentComplete':genomes_no40.groupby('variable').mean()['Percent>80'],\\\n",
    "                            'NumPartial':genomes_no40.groupby('variable').sum()['Percent>10'],\\\n",
    "                            # Average percent of genome covered, for positive samples\n",
    "                            'AveragePercent':genomes_no40.groupby('variable').mean()['value']})\n",
    "\n",
    "# update any percent stats to be from 0-100 instead of 0-1\n",
    "for percent in ['PercentWithCt','PercentComplete','AveragePercent']:\n",
    "    genome_stats[percent] = (genome_stats[percent]*100)\n",
    "# round all numbers to have only one decimal point\n",
    "genome_stats = genome_stats.round(decimals=1)"
   ]
  },
  {
   "cell_type": "code",
   "execution_count": 33,
   "id": "9d48e280",
   "metadata": {},
   "outputs": [
    {
     "data": {
      "text/html": [
       "<div>\n",
       "<style scoped>\n",
       "    .dataframe tbody tr th:only-of-type {\n",
       "        vertical-align: middle;\n",
       "    }\n",
       "\n",
       "    .dataframe tbody tr th {\n",
       "        vertical-align: top;\n",
       "    }\n",
       "\n",
       "    .dataframe thead th {\n",
       "        text-align: right;\n",
       "    }\n",
       "</style>\n",
       "<table border=\"1\" class=\"dataframe\">\n",
       "  <thead>\n",
       "    <tr style=\"text-align: right;\">\n",
       "      <th></th>\n",
       "      <th>NumberPositive</th>\n",
       "      <th>NumberSamples</th>\n",
       "      <th>PercentWithCt</th>\n",
       "      <th>MinCt</th>\n",
       "      <th>MaxCt</th>\n",
       "      <th>MeanCt</th>\n",
       "      <th>NumberSequenced</th>\n",
       "      <th>NumberComplete</th>\n",
       "      <th>PercentComplete</th>\n",
       "      <th>NumPartial</th>\n",
       "      <th>AveragePercent</th>\n",
       "    </tr>\n",
       "    <tr>\n",
       "      <th>variable</th>\n",
       "      <th></th>\n",
       "      <th></th>\n",
       "      <th></th>\n",
       "      <th></th>\n",
       "      <th></th>\n",
       "      <th></th>\n",
       "      <th></th>\n",
       "      <th></th>\n",
       "      <th></th>\n",
       "      <th></th>\n",
       "      <th></th>\n",
       "    </tr>\n",
       "  </thead>\n",
       "  <tbody>\n",
       "    <tr>\n",
       "      <th>Swab</th>\n",
       "      <td>10</td>\n",
       "      <td>10</td>\n",
       "      <td>100.0</td>\n",
       "      <td>20.2</td>\n",
       "      <td>34.2</td>\n",
       "      <td>27.6</td>\n",
       "      <td>10</td>\n",
       "      <td>9</td>\n",
       "      <td>90.0</td>\n",
       "      <td>10</td>\n",
       "      <td>96.4</td>\n",
       "    </tr>\n",
       "    <tr>\n",
       "      <th>Buffer</th>\n",
       "      <td>10</td>\n",
       "      <td>10</td>\n",
       "      <td>100.0</td>\n",
       "      <td>28.7</td>\n",
       "      <td>35.2</td>\n",
       "      <td>32.5</td>\n",
       "      <td>10</td>\n",
       "      <td>3</td>\n",
       "      <td>30.0</td>\n",
       "      <td>9</td>\n",
       "      <td>61.5</td>\n",
       "    </tr>\n",
       "    <tr>\n",
       "      <th>Strip</th>\n",
       "      <td>8</td>\n",
       "      <td>10</td>\n",
       "      <td>80.0</td>\n",
       "      <td>30.8</td>\n",
       "      <td>35.2</td>\n",
       "      <td>33.0</td>\n",
       "      <td>8</td>\n",
       "      <td>1</td>\n",
       "      <td>12.5</td>\n",
       "      <td>7</td>\n",
       "      <td>46.0</td>\n",
       "    </tr>\n",
       "  </tbody>\n",
       "</table>\n",
       "</div>"
      ],
      "text/plain": [
       "          NumberPositive  NumberSamples  PercentWithCt  MinCt  MaxCt  MeanCt  \\\n",
       "variable                                                                       \n",
       "Swab                  10             10          100.0   20.2   34.2    27.6   \n",
       "Buffer                10             10          100.0   28.7   35.2    32.5   \n",
       "Strip                  8             10           80.0   30.8   35.2    33.0   \n",
       "\n",
       "          NumberSequenced  NumberComplete  PercentComplete  NumPartial  \\\n",
       "variable                                                                 \n",
       "Swab                   10               9             90.0          10   \n",
       "Buffer                 10               3             30.0           9   \n",
       "Strip                   8               1             12.5           7   \n",
       "\n",
       "          AveragePercent  \n",
       "variable                  \n",
       "Swab                96.4  \n",
       "Buffer              61.5  \n",
       "Strip               46.0  "
      ]
     },
     "execution_count": 33,
     "metadata": {},
     "output_type": "execute_result"
    }
   ],
   "source": [
    "genome_stats.loc[['Swab','Buffer','Strip']]"
   ]
  },
  {
   "cell_type": "code",
   "execution_count": 34,
   "id": "b14f9521",
   "metadata": {},
   "outputs": [
    {
     "data": {
      "text/html": [
       "<div>\n",
       "<style scoped>\n",
       "    .dataframe tbody tr th:only-of-type {\n",
       "        vertical-align: middle;\n",
       "    }\n",
       "\n",
       "    .dataframe tbody tr th {\n",
       "        vertical-align: top;\n",
       "    }\n",
       "\n",
       "    .dataframe thead th {\n",
       "        text-align: right;\n",
       "    }\n",
       "</style>\n",
       "<table border=\"1\" class=\"dataframe\">\n",
       "  <thead>\n",
       "    <tr style=\"text-align: right;\">\n",
       "      <th></th>\n",
       "      <th>R_clade</th>\n",
       "      <th>R_pango</th>\n",
       "      <th>Str_clade</th>\n",
       "      <th>Str_pango</th>\n",
       "      <th>Clade</th>\n",
       "      <th>Pango</th>\n",
       "    </tr>\n",
       "  </thead>\n",
       "  <tbody>\n",
       "    <tr>\n",
       "      <th>209</th>\n",
       "      <td>22E (Omicron)</td>\n",
       "      <td>BQ.1.1.13</td>\n",
       "      <td>[22E (Omicron)]</td>\n",
       "      <td>[Unassigned]</td>\n",
       "      <td>True</td>\n",
       "      <td>False</td>\n",
       "    </tr>\n",
       "    <tr>\n",
       "      <th>301</th>\n",
       "      <td>22F (Omicron)</td>\n",
       "      <td>XBB.1.5</td>\n",
       "      <td>[22F (Omicron)]</td>\n",
       "      <td>[Unassigned]</td>\n",
       "      <td>True</td>\n",
       "      <td>False</td>\n",
       "    </tr>\n",
       "    <tr>\n",
       "      <th>314</th>\n",
       "      <td>22E (Omicron)</td>\n",
       "      <td>BQ.1.1.13</td>\n",
       "      <td>[nan]</td>\n",
       "      <td>[nan]</td>\n",
       "      <td>False</td>\n",
       "      <td>False</td>\n",
       "    </tr>\n",
       "    <tr>\n",
       "      <th>315</th>\n",
       "      <td>22F (Omicron)</td>\n",
       "      <td>XBB.1.5</td>\n",
       "      <td>[22F (Omicron)]</td>\n",
       "      <td>[XBB.1.5]</td>\n",
       "      <td>True</td>\n",
       "      <td>True</td>\n",
       "    </tr>\n",
       "    <tr>\n",
       "      <th>407</th>\n",
       "      <td>22F (Omicron)</td>\n",
       "      <td>XBB.1.5</td>\n",
       "      <td>[recombinant]</td>\n",
       "      <td>[Unassigned]</td>\n",
       "      <td>False</td>\n",
       "      <td>False</td>\n",
       "    </tr>\n",
       "    <tr>\n",
       "      <th>501</th>\n",
       "      <td>22F (Omicron)</td>\n",
       "      <td>XBB.1.5</td>\n",
       "      <td>[22F (Omicron)]</td>\n",
       "      <td>[XBB.1.5]</td>\n",
       "      <td>True</td>\n",
       "      <td>True</td>\n",
       "    </tr>\n",
       "    <tr>\n",
       "      <th>514</th>\n",
       "      <td>22F (Omicron)</td>\n",
       "      <td>XBB.1.5</td>\n",
       "      <td>[22F (Omicron)]</td>\n",
       "      <td>[Unassigned]</td>\n",
       "      <td>True</td>\n",
       "      <td>False</td>\n",
       "    </tr>\n",
       "    <tr>\n",
       "      <th>518</th>\n",
       "      <td>22F (Omicron)</td>\n",
       "      <td>XBB.1.5</td>\n",
       "      <td>[22F (Omicron)]</td>\n",
       "      <td>[Unassigned]</td>\n",
       "      <td>True</td>\n",
       "      <td>False</td>\n",
       "    </tr>\n",
       "    <tr>\n",
       "      <th>808</th>\n",
       "      <td>22F (Omicron)</td>\n",
       "      <td>XBB.1.5</td>\n",
       "      <td>[22F (Omicron)]</td>\n",
       "      <td>[Unassigned]</td>\n",
       "      <td>True</td>\n",
       "      <td>False</td>\n",
       "    </tr>\n",
       "    <tr>\n",
       "      <th>904</th>\n",
       "      <td>22F (Omicron)</td>\n",
       "      <td>XBB.1.5</td>\n",
       "      <td>[19A]</td>\n",
       "      <td>[Unassigned]</td>\n",
       "      <td>False</td>\n",
       "      <td>False</td>\n",
       "    </tr>\n",
       "  </tbody>\n",
       "</table>\n",
       "</div>"
      ],
      "text/plain": [
       "           R_clade    R_pango        Str_clade     Str_pango  Clade  Pango\n",
       "209  22E (Omicron)  BQ.1.1.13  [22E (Omicron)]  [Unassigned]   True  False\n",
       "301  22F (Omicron)    XBB.1.5  [22F (Omicron)]  [Unassigned]   True  False\n",
       "314  22E (Omicron)  BQ.1.1.13            [nan]         [nan]  False  False\n",
       "315  22F (Omicron)    XBB.1.5  [22F (Omicron)]     [XBB.1.5]   True   True\n",
       "407  22F (Omicron)    XBB.1.5    [recombinant]  [Unassigned]  False  False\n",
       "501  22F (Omicron)    XBB.1.5  [22F (Omicron)]     [XBB.1.5]   True   True\n",
       "514  22F (Omicron)    XBB.1.5  [22F (Omicron)]  [Unassigned]   True  False\n",
       "518  22F (Omicron)    XBB.1.5  [22F (Omicron)]  [Unassigned]   True  False\n",
       "808  22F (Omicron)    XBB.1.5  [22F (Omicron)]  [Unassigned]   True  False\n",
       "904  22F (Omicron)    XBB.1.5            [19A]  [Unassigned]  False  False"
      ]
     },
     "metadata": {},
     "output_type": "display_data"
    },
    {
     "name": "stdout",
     "output_type": "stream",
     "text": [
      "Clade    7\n",
      "Pango    2\n",
      "dtype: object\n",
      "Clade    0.538462\n",
      "Pango    0.153846\n",
      "dtype: object\n"
     ]
    }
   ],
   "source": [
    "# for which samples could clade/lineage be accurately predicted by RDTs without PCR swab? -- for strip\n",
    "lineages = pd.DataFrame(index=genome_data_2[[s in ['Buffer','Strip','Swab'] for s in genome_data_2.variable]].ID.unique(), \\\n",
    "                        columns=['R_clade','R_pango','Str_clade','Str_pango','Clade','Pango'])\n",
    "for i in lineages.index:\n",
    "    lineages['R_clade'].loc[i] = genome_data_2[genome_data_2.Sample==(i+\"_swab\")].nextclade_clade.values[0]\n",
    "    lineages['R_pango'].loc[i] = genome_data_2[genome_data_2.Sample==(i+\"_swab\")].pango_lineage.values[0]\n",
    "    lineages['Str_clade'].loc[i] = genome_data_2[genome_data_2.Sample.str.contains(pat=i+'_strip')].nextclade_clade.values\n",
    "    lineages['Str_pango'].loc[i] = genome_data_2[genome_data_2.Sample.str.contains(pat=i+'_strip')].pango_lineage.values\n",
    "    lineages['Clade'].loc[i] = lineages.R_clade[i] in lineages.Str_clade[i] \n",
    "    lineages['Pango'].loc[i] = lineages.R_pango[i] in lineages.Str_pango[i] \n",
    "\n",
    "display(lineages)\n",
    "print(lineages[['Clade','Pango']].sum())\n",
    "print(lineages[['Clade','Pango']].sum()/13)"
   ]
  },
  {
   "cell_type": "code",
   "execution_count": 35,
   "id": "b3242094",
   "metadata": {},
   "outputs": [
    {
     "data": {
      "text/html": [
       "<div>\n",
       "<style scoped>\n",
       "    .dataframe tbody tr th:only-of-type {\n",
       "        vertical-align: middle;\n",
       "    }\n",
       "\n",
       "    .dataframe tbody tr th {\n",
       "        vertical-align: top;\n",
       "    }\n",
       "\n",
       "    .dataframe thead th {\n",
       "        text-align: right;\n",
       "    }\n",
       "</style>\n",
       "<table border=\"1\" class=\"dataframe\">\n",
       "  <thead>\n",
       "    <tr style=\"text-align: right;\">\n",
       "      <th></th>\n",
       "      <th>R_clade</th>\n",
       "      <th>R_pango</th>\n",
       "      <th>Str_clade</th>\n",
       "      <th>Str_pango</th>\n",
       "      <th>Clade</th>\n",
       "      <th>Pango</th>\n",
       "    </tr>\n",
       "  </thead>\n",
       "  <tbody>\n",
       "    <tr>\n",
       "      <th>209</th>\n",
       "      <td>22E (Omicron)</td>\n",
       "      <td>BQ.1.1.13</td>\n",
       "      <td>[22E (Omicron)]</td>\n",
       "      <td>[BQ.1.1.13]</td>\n",
       "      <td>True</td>\n",
       "      <td>True</td>\n",
       "    </tr>\n",
       "    <tr>\n",
       "      <th>301</th>\n",
       "      <td>22F (Omicron)</td>\n",
       "      <td>XBB.1.5</td>\n",
       "      <td>[22F (Omicron)]</td>\n",
       "      <td>[XBB.1.5]</td>\n",
       "      <td>True</td>\n",
       "      <td>True</td>\n",
       "    </tr>\n",
       "    <tr>\n",
       "      <th>314</th>\n",
       "      <td>22E (Omicron)</td>\n",
       "      <td>BQ.1.1.13</td>\n",
       "      <td>[nan]</td>\n",
       "      <td>[nan]</td>\n",
       "      <td>False</td>\n",
       "      <td>False</td>\n",
       "    </tr>\n",
       "    <tr>\n",
       "      <th>315</th>\n",
       "      <td>22F (Omicron)</td>\n",
       "      <td>XBB.1.5</td>\n",
       "      <td>[22F (Omicron)]</td>\n",
       "      <td>[XBB.1.5]</td>\n",
       "      <td>True</td>\n",
       "      <td>True</td>\n",
       "    </tr>\n",
       "    <tr>\n",
       "      <th>407</th>\n",
       "      <td>22F (Omicron)</td>\n",
       "      <td>XBB.1.5</td>\n",
       "      <td>[22F (Omicron)]</td>\n",
       "      <td>[Unassigned]</td>\n",
       "      <td>True</td>\n",
       "      <td>False</td>\n",
       "    </tr>\n",
       "    <tr>\n",
       "      <th>501</th>\n",
       "      <td>22F (Omicron)</td>\n",
       "      <td>XBB.1.5</td>\n",
       "      <td>[22F (Omicron)]</td>\n",
       "      <td>[XBB.1.5]</td>\n",
       "      <td>True</td>\n",
       "      <td>True</td>\n",
       "    </tr>\n",
       "    <tr>\n",
       "      <th>514</th>\n",
       "      <td>22F (Omicron)</td>\n",
       "      <td>XBB.1.5</td>\n",
       "      <td>[22F (Omicron)]</td>\n",
       "      <td>[XBB.1.5]</td>\n",
       "      <td>True</td>\n",
       "      <td>True</td>\n",
       "    </tr>\n",
       "    <tr>\n",
       "      <th>518</th>\n",
       "      <td>22F (Omicron)</td>\n",
       "      <td>XBB.1.5</td>\n",
       "      <td>[22F (Omicron)]</td>\n",
       "      <td>[Unassigned]</td>\n",
       "      <td>True</td>\n",
       "      <td>False</td>\n",
       "    </tr>\n",
       "    <tr>\n",
       "      <th>808</th>\n",
       "      <td>22F (Omicron)</td>\n",
       "      <td>XBB.1.5</td>\n",
       "      <td>[22F (Omicron)]</td>\n",
       "      <td>[Unassigned]</td>\n",
       "      <td>True</td>\n",
       "      <td>False</td>\n",
       "    </tr>\n",
       "    <tr>\n",
       "      <th>904</th>\n",
       "      <td>22F (Omicron)</td>\n",
       "      <td>XBB.1.5</td>\n",
       "      <td>[22F (Omicron)]</td>\n",
       "      <td>[Unassigned]</td>\n",
       "      <td>True</td>\n",
       "      <td>False</td>\n",
       "    </tr>\n",
       "  </tbody>\n",
       "</table>\n",
       "</div>"
      ],
      "text/plain": [
       "           R_clade    R_pango        Str_clade     Str_pango  Clade  Pango\n",
       "209  22E (Omicron)  BQ.1.1.13  [22E (Omicron)]   [BQ.1.1.13]   True   True\n",
       "301  22F (Omicron)    XBB.1.5  [22F (Omicron)]     [XBB.1.5]   True   True\n",
       "314  22E (Omicron)  BQ.1.1.13            [nan]         [nan]  False  False\n",
       "315  22F (Omicron)    XBB.1.5  [22F (Omicron)]     [XBB.1.5]   True   True\n",
       "407  22F (Omicron)    XBB.1.5  [22F (Omicron)]  [Unassigned]   True  False\n",
       "501  22F (Omicron)    XBB.1.5  [22F (Omicron)]     [XBB.1.5]   True   True\n",
       "514  22F (Omicron)    XBB.1.5  [22F (Omicron)]     [XBB.1.5]   True   True\n",
       "518  22F (Omicron)    XBB.1.5  [22F (Omicron)]  [Unassigned]   True  False\n",
       "808  22F (Omicron)    XBB.1.5  [22F (Omicron)]  [Unassigned]   True  False\n",
       "904  22F (Omicron)    XBB.1.5  [22F (Omicron)]  [Unassigned]   True  False"
      ]
     },
     "metadata": {},
     "output_type": "display_data"
    },
    {
     "name": "stdout",
     "output_type": "stream",
     "text": [
      "Clade    9\n",
      "Pango    5\n",
      "dtype: object\n",
      "Clade    0.692308\n",
      "Pango    0.384615\n",
      "dtype: object\n"
     ]
    }
   ],
   "source": [
    "# for which samples could clade/lineage be accurately predicted by RDTs without PCR swab? -- for tube\n",
    "lineages = pd.DataFrame(index=genome_data_2[[s in ['Buffer','Strip','Swab'] for s in genome_data_2.variable]].ID.unique(), \\\n",
    "                        columns=['R_clade','R_pango','Str_clade','Str_pango','Clade','Pango'])\n",
    "for i in lineages.index:\n",
    "    lineages['R_clade'].loc[i] = genome_data_2[genome_data_2.Sample==(i+\"_swab\")].nextclade_clade.values[0]\n",
    "    lineages['R_pango'].loc[i] = genome_data_2[genome_data_2.Sample==(i+\"_swab\")].pango_lineage.values[0]\n",
    "    lineages['Str_clade'].loc[i] = genome_data_2[genome_data_2.Sample.str.contains(pat=i+'_liquid')].nextclade_clade.values\n",
    "    lineages['Str_pango'].loc[i] = genome_data_2[genome_data_2.Sample.str.contains(pat=i+'_liquid')].pango_lineage.values\n",
    "    lineages['Clade'].loc[i] = lineages.R_clade[i] in lineages.Str_clade[i] \n",
    "    lineages['Pango'].loc[i] = lineages.R_pango[i] in lineages.Str_pango[i] \n",
    "\n",
    "display(lineages)\n",
    "print(lineages[['Clade','Pango']].sum())\n",
    "print(lineages[['Clade','Pango']].sum()/13)"
   ]
  },
  {
   "cell_type": "markdown",
   "id": "f326b4ef",
   "metadata": {
    "heading_collapsed": true
   },
   "source": [
    "# Both cohorts: Ct comparisons"
   ]
  },
  {
   "cell_type": "markdown",
   "id": "c913e513",
   "metadata": {
    "heading_collapsed": true,
    "hidden": true
   },
   "source": [
    "## Relevant dataframes "
   ]
  },
  {
   "cell_type": "markdown",
   "id": "65e8c611",
   "metadata": {
    "hidden": true
   },
   "source": [
    "Create rdt dataframe with a few extra columns, to merge in eventually"
   ]
  },
  {
   "cell_type": "code",
   "execution_count": 36,
   "id": "9914945d",
   "metadata": {
    "hidden": true
   },
   "outputs": [],
   "source": [
    "rdt_new = rdt_value.copy().rename(columns={'Cq':'value'}).reset_index(drop=True)\n",
    "rdt_new['Brand'] = [a[1][0] for a in rdt_new['Sample'].str.split('_')]\n",
    "rdt_new['Component'] = [a[2] if len(a)==3 else np.nan for a in rdt_new['Sample'].str.split('_')]\n",
    "rdt_new['variable'] = [rdt_new.loc[a,'Brand'] + str(rdt_new.loc[a,'Component']) for a in range(len(rdt_new))]"
   ]
  },
  {
   "cell_type": "markdown",
   "id": "6c1796c3",
   "metadata": {
    "hidden": true
   },
   "source": [
    "Combine MPHN2 and rdt_new to have all samples together in one dataframe"
   ]
  },
  {
   "cell_type": "code",
   "execution_count": 37,
   "id": "22fa6ed3",
   "metadata": {
    "hidden": true
   },
   "outputs": [],
   "source": [
    "combined = MPHN2.append(rdt_new[['Sample','value','variable','ID']]).reset_index(drop=True)\n",
    "\n",
    "# now let's combine with genome length\n",
    "all_genome = genome_data_1.append(genome_data_2.rename(columns={'value':'Percent'}))\n",
    "all_genome = all_genome[['Sample','ID','assembly_length_unambiguous','Percent','pango_lineage']]\n",
    "combined = pd.merge(combined,all_genome,how='left',on=['Sample','ID'])\n",
    "\n",
    "# create categories to distinguish between cohorts and component (for now, just need cohort 1 strip)\n",
    "combined['category'] = np.nan\n",
    "combined.loc[combined.variable=='inan','category'] = 'Strip'\n",
    "combined.loc[combined.variable=='Bstr','category'] = 'Strip'\n",
    "combined.loc[combined.variable=='Qstr','category'] = 'Strip'"
   ]
  },
  {
   "cell_type": "markdown",
   "id": "03b259fc",
   "metadata": {
    "hidden": true
   },
   "source": [
    "Comparisons of Ct difference for matched pairs: PCR v. RDT strip / swab; RDT strip v. swab / tube"
   ]
  },
  {
   "cell_type": "code",
   "execution_count": 38,
   "id": "8c236a4e",
   "metadata": {
    "hidden": true
   },
   "outputs": [],
   "source": [
    "# PCR v. RDT strip: for all cohort 1 strips (i.e. category=='Strip')\n",
    "PCRvRDTstr = [combined[combined.Sample == combined.ID[i]+'_R'].value.values[0] - combined.value[i] \\\n",
    "              for i in combined[combined.category=='Strip'].index]\n",
    "# PCR v. RDT swab: for cohort 1 Binax swabs\n",
    "PCRvRDTswab = [combined[combined.Sample == combined.ID[i]+'_R'].value.values[0] - combined.value[i] \\\n",
    "              for i in combined[combined.variable=='Bswab'].index]\n",
    "# RDT strip v. swab: first for cohort 1 BinaxNOW matched samples\n",
    "RDTstrVswab = [combined[combined.Sample.str.contains(combined.ID[i]+'_B.*swab')].value.values[0] - combined.value[i] \\\n",
    "               for i in combined[combined.variable=='Bstr'].index \\\n",
    "               if len(combined[combined.Sample.str.contains(combined.ID[i]+'_B.*swab')])]\n",
    "# second for cohort 2 iHealth matched samples\n",
    "RDTstrVswab.extend([combined[combined.Sample.str.contains(combined.ID[i]+'_swab')].value.values[0] - combined.value[i] \\\n",
    "                   for i in combined[combined.variable=='Strip'].index])\n",
    "# RDT strip v. tube: first for cohort 1 Quickvue matched samples\n",
    "RDTstrVtube = [combined[combined.Sample.str.contains(combined.ID[i]+'_Q.*tube')].value.values[0] - combined.value[i]\\\n",
    "              for i in combined[combined.variable=='Qstr'].index \\\n",
    "              if len(combined[combined.Sample.str.contains(combined.ID[i]+'_Q.*tube')])]\n",
    "# second for cohort 2 iHealth matched samples\n",
    "RDTstrVtube.extend([combined[combined.Sample.str.contains(combined.ID[i]+'_liquid')].value.values[0] - combined.value[i] \\\n",
    "                   for i in combined[combined.variable=='Strip'].index])\n",
    "\n",
    "d = {'PCRvRDTstr':PCRvRDTstr,'PCRvRDTswab':PCRvRDTswab,'RDTstrVswab':RDTstrVswab,'RDTstrVtube':RDTstrVtube}\n",
    "Ctdiffs = pd.DataFrame(dict([ (k,pd.Series(v)) for k,v in d.items() ]))"
   ]
  },
  {
   "cell_type": "markdown",
   "id": "bab1664c",
   "metadata": {
    "hidden": true
   },
   "source": [
    "Comparisons of genome length difference for matched pairs: PCR v. each strip brand&component"
   ]
  },
  {
   "cell_type": "code",
   "execution_count": 39,
   "id": "6f4c9c12",
   "metadata": {
    "hidden": true
   },
   "outputs": [],
   "source": [
    "d = {}\n",
    "for comp in ['Bswab','Bstr','Qtube','Qstr','inan']:\n",
    "    d[comp] = [combined.Percent[i] - combined[combined.Sample==combined.ID[i]+'_R'].Percent.values[0] \\\n",
    "               for i in combined[combined.variable==comp].index]\n",
    "\n",
    "Genome_diffs = pd.DataFrame(dict([ (k,pd.Series(v)) for k,v in d.items() ]))"
   ]
  },
  {
   "cell_type": "markdown",
   "id": "6543ad39",
   "metadata": {
    "hidden": true
   },
   "source": [
    "Comparisons of genome length difference for matched pairs: PCR v. each RDT component"
   ]
  },
  {
   "cell_type": "code",
   "execution_count": 40,
   "id": "d6f5be47",
   "metadata": {
    "hidden": true
   },
   "outputs": [],
   "source": [
    "d = {'Strip':[]}\n",
    "for comp in ['Bswab','Bstr','Qtube','Qstr','inan']: #strip\n",
    "    d['Strip'].extend([combined.Percent[i] - combined[combined.Sample==combined.ID[i]+'_R'].Percent.values[0] \\\n",
    "               for i in combined[combined.variable==comp].index])\n",
    "d['Buffer'] = [combined.Percent[i] - combined[combined.Sample==combined.ID[i]+'_R'].Percent.values[0] \\\n",
    "               for i in combined[combined.variable=='Qtube'].index]\n",
    "d['Swab'] = [combined.Percent[i] - combined[combined.Sample==combined.ID[i]+'_R'].Percent.values[0] \\\n",
    "               for i in combined[combined.variable=='Bswab'].index]\n",
    "\n",
    "Genome_diffs2 = pd.DataFrame(dict([ (k,pd.Series(v)) for k,v in d.items() ]))"
   ]
  },
  {
   "cell_type": "markdown",
   "id": "9461ab88",
   "metadata": {
    "heading_collapsed": true,
    "hidden": true
   },
   "source": [
    "## Figures "
   ]
  },
  {
   "cell_type": "code",
   "execution_count": 41,
   "id": "6d7fc7c1",
   "metadata": {
    "hidden": true
   },
   "outputs": [],
   "source": [
    "sns.set_style('white')"
   ]
  },
  {
   "cell_type": "code",
   "execution_count": 42,
   "id": "802c1ae2",
   "metadata": {
    "hidden": true
   },
   "outputs": [
    {
     "name": "stderr",
     "output_type": "stream",
     "text": [
      "/Users/jsilbert/opt/miniconda3/lib/python3.9/site-packages/statannotations/_Plotter.py:337: UserWarning: Invalid x-position found. Are the same parameters passed to seaborn and statannotations calls? or are there few data points?\n",
      "  warnings.warn(\n",
      "/Users/jsilbert/opt/miniconda3/lib/python3.9/site-packages/scipy/stats/_morestats.py:3414: UserWarning: Exact p-value calculation does not work if there are zeros. Switching to normal approximation.\n",
      "  warnings.warn(\"Exact p-value calculation does not work if there are \"\n",
      "/Users/jsilbert/opt/miniconda3/lib/python3.9/site-packages/scipy/stats/_morestats.py:3428: UserWarning: Sample size too small for normal approximation.\n",
      "  warnings.warn(\"Sample size too small for normal approximation.\")\n"
     ]
    },
    {
     "name": "stdout",
     "output_type": "stream",
     "text": [
      "p-value annotation legend:\n",
      "      ns: p <= 1.00e+00\n",
      "       *: 1.00e-02 < p <= 5.00e-02\n",
      "      **: 1.00e-03 < p <= 1.00e-02\n",
      "     ***: 1.00e-04 < p <= 1.00e-03\n",
      "    ****: p <= 1.00e-04\n",
      "\n",
      "Bswab vs. Bstr: Custom statistical test, P_val:1.172e-02\n",
      "Buffer vs. Strip: Custom statistical test, P_val:1.367e-02\n",
      "Swab vs. Buffer: Custom statistical test, P_val:1.953e-03\n",
      "Qstr vs. Qtube: Custom statistical test, P_val:6.789e-02\n",
      "Swab vs. Strip: Custom statistical test, P_val:1.953e-03\n",
      "Diff for iHealth strip & buffer: 1.89555\n"
     ]
    },
    {
     "data": {
      "image/png": "[encoded data removed]",
      "text/plain": [
       "<Figure size 756x360 with 1 Axes>"
      ]
     },
     "metadata": {},
     "output_type": "display_data"
    }
   ],
   "source": [
    "# update dataframe to only include matched sets for Qstr & Qtube; Bswab & Bstr (cohort2 is already matched)\n",
    "df = combined.copy()\n",
    "for i in range(len(combined)):\n",
    "    for text in ['Q','Bs']: # check for matched Qstr & Qtube, then Bstr & Bswab sets\n",
    "        if text in df.loc[i].variable:\n",
    "            if sum([text in x for x in df[df.ID==df.loc[i].ID].variable]) < 2:\n",
    "                df.drop([i], inplace=True)\n",
    "            break # no need to check same location for other type of RDT\n",
    "order = ['Bswab', 'Bstr', 'Swab','Buffer','Strip','Qstr','Qtube']\n",
    "labels = ['Swab','Strip','Swab','Buffer','Strip','Strip','Buffer']\n",
    "\n",
    "f = plt.figure(figsize=[10.5,5])\n",
    "ax = sns.stripplot(data=df, x=\"variable\", y=\"value\", order=order, **args_stripplot)\n",
    "sns.boxplot(x=\"variable\", y=\"value\", data=df, order=order, **args_boxplot)\n",
    "\n",
    "ax.invert_yaxis()\n",
    "\n",
    "pairs = [['Bstr','Bswab'],['Buffer','Strip'],['Buffer','Swab'],['Swab','Strip'],['Qstr','Qtube']]\n",
    "annotator = Annotator(ax, pairs,order=order,data=df,x='variable',y='value')\n",
    "annotator.set_pvalues(get_pvalues2(df,pairs,wilcoxon=True)) # do wilcoxon paired test\n",
    "annotator.annotate()\n",
    "\n",
    "lspace, rspace=[60,60]\n",
    "ax.set_xlabel('\\nBinaxNOW'+lspace*' '+'iHealth'+rspace*' '+'Quickvue', fontsize=12)\n",
    "ax.set_xticklabels(labels)\n",
    "ax.set_ylabel('Ct Values', fontsize=12)\n",
    "ax.get_legend().remove()\n",
    "print('Diff for iHealth strip & buffer:',\n",
    "      df[df.variable=='Strip'].value.mean() - df[df.variable=='Buffer'].value.mean())\n",
    "\n",
    "save_figure('fig/CT_allbrands_allcomponents.svg')"
   ]
  },
  {
   "cell_type": "code",
   "execution_count": 43,
   "id": "35c9b470",
   "metadata": {
    "hidden": true
   },
   "outputs": [
    {
     "data": {
      "image/png": "[encoded data removed]",
      "text/plain": [
       "<Figure size 756x360 with 1 Axes>"
      ]
     },
     "metadata": {},
     "output_type": "display_data"
    }
   ],
   "source": [
    "f = plt.figure(figsize=[10.5,5])\n",
    "\n",
    "df = pd.melt(Ctdiffs)\n",
    "order = ['PCRvRDTstr','RDTstrVtube','PCRvRDTswab','RDTstrVswab']\n",
    "labels = [\"$RDT_{strip} - PCR$\",'$RDT_{tube} - RDT_{strip}$',\\\n",
    "          '$RDT_{swab} - PCR$','$RDT_{swab} - RDT_{strip}$']\n",
    "\n",
    "ax = sns.stripplot(data=df, x=\"variable\", y=\"value\", order=order, **args_stripplot)\n",
    "sns.boxplot(x=\"variable\", y=\"value\", order=order, data=df, **args_boxplot)\n",
    "\n",
    "plt.plot(np.arange(-.5,4,.5),[0]*9,'k:',alpha=.5)\n",
    "\n",
    "ax.set_ylabel('Ct Difference', fontsize=12)\n",
    "ax.set_xticklabels(labels)\n",
    "ax.set_xlabel('Matched Comparisons', fontsize=12)\n",
    "ax.get_legend().remove()\n",
    "\n",
    "save_figure('fig/CT_matched_comparisons.svg')"
   ]
  },
  {
   "cell_type": "code",
   "execution_count": 44,
   "id": "d9052d41",
   "metadata": {
    "hidden": true
   },
   "outputs": [
    {
     "data": {
      "image/png": "[encoded data removed]",
      "text/plain": [
       "<Figure size 360x360 with 1 Axes>"
      ]
     },
     "metadata": {},
     "output_type": "display_data"
    }
   ],
   "source": [
    "plt.figure(figsize=[5,5])\n",
    "\n",
    "df = pd.melt(Genome_diffs2)\n",
    "order = ['Strip','Swab','Buffer']\n",
    "\n",
    "sns.boxplot(x=\"variable\", y=\"value\", order=order, data=df, **args_boxplot)\n",
    "ax = sns.stripplot(data=df, x=\"variable\", y=\"value\", order=order, **args_stripplot)\n",
    "\n",
    "ax.set_ylabel('Difference in\\nPercent Genome Assembled', fontsize=12)\n",
    "ax.set_xlabel('Matched Comparisons with PCR Swab', fontsize=12)\n",
    "ax.get_legend().remove()\n",
    "\n",
    "save_figure('fig/genomic_matched_comparisons.svg')"
   ]
  },
  {
   "cell_type": "code",
   "execution_count": 45,
   "id": "39bc6490",
   "metadata": {
    "hidden": true
   },
   "outputs": [
    {
     "name": "stdout",
     "output_type": "stream",
     "text": [
      "# samples Ct>32: 24\n"
     ]
    },
    {
     "data": {
      "image/png": "[encoded data removed]",
      "text/plain": [
       "<Figure size 756x360 with 1 Axes>"
      ]
     },
     "metadata": {},
     "output_type": "display_data"
    }
   ],
   "source": [
    "plt.figure(figsize=[10.5,5])\n",
    "\n",
    "df = combined.copy().rename({'category':'Category'})\n",
    "locs = np.where([len(i)==3 for i in df.ID])[0]\n",
    "df.loc[locs,'Category'] = df.loc[locs,'variable']\n",
    "df.loc[np.where(df.variable=='Bswab')[0],'Category'] = 'Swab'\n",
    "df.loc[np.where(df.variable=='Qtube')[0],'Category'] = 'Buffer'\n",
    "df.loc[np.where(df.variable=='Rnan')[0],'Category'] = 'PCR'\n",
    "df['Lineage'] = ['B' in str(l) for l in combined.pango_lineage]\n",
    "\n",
    "order = ['PCR','Swab','Strip','Buffer']\n",
    "ax = sns.scatterplot(data=df, x=\"value\", y=\"Percent\",hue_order=order,hue='Category',palette='rocket',\\\n",
    "                     style='Lineage',style_order=[True,False], markers={False:'X',True:'o'})\n",
    "\n",
    "plt.plot([32,32],[0,1],'k:', alpha=.5)\n",
    "plt.plot([18,41],[.7,.7],'k:', alpha=.5)\n",
    "\n",
    "plt.ylabel(\"Percent Genome Assembled\", fontweight='normal', fontsize=12)\n",
    "plt.xlabel(\"Ct Value\", fontweight='normal', fontsize=12) ;\n",
    "print('# samples Ct>32:',len(combined[combined.value>32].dropna(subset=['assembly_length_unambiguous'])))\n",
    "\n",
    "save_figure('fig/genomic_CT.svg')"
   ]
  },
  {
   "cell_type": "markdown",
   "id": "ec5e6bdd",
   "metadata": {
    "heading_collapsed": true,
    "hidden": true
   },
   "source": [
    "## Relevant stats"
   ]
  },
  {
   "cell_type": "code",
   "execution_count": 46,
   "id": "afe560af",
   "metadata": {
    "hidden": true
   },
   "outputs": [
    {
     "name": "stdout",
     "output_type": "stream",
     "text": [
      "PCRvRDTstr\n",
      "pvalue: 2.384185791015625e-07\n",
      "difference: -10.15989620995116\n",
      "# individuals: 23 \n",
      "\n",
      "PCRvRDTswab\n",
      "pvalue: 0.0546875\n",
      "difference: -4.14251557218143\n",
      "# individuals: 9 \n",
      "\n",
      "RDTstrVswab\n",
      "pvalue: 0.00019643672621231134\n",
      "difference: -6.948094608932407\n",
      "# individuals: 19 \n",
      "\n",
      "RDTstrVtube\n",
      "pvalue: 0.9249783071207602\n",
      "difference: 0.31179125763572757\n",
      "# individuals: 16 \n",
      "\n"
     ]
    },
    {
     "name": "stderr",
     "output_type": "stream",
     "text": [
      "/Users/jsilbert/opt/miniconda3/lib/python3.9/site-packages/scipy/stats/_morestats.py:3414: UserWarning: Exact p-value calculation does not work if there are zeros. Switching to normal approximation.\n",
      "  warnings.warn(\"Exact p-value calculation does not work if there are \"\n"
     ]
    }
   ],
   "source": [
    "for col in Ctdiffs.columns:\n",
    "    print(col)\n",
    "    print('pvalue:',stats.wilcoxon(Ctdiffs[col].dropna()).pvalue)\n",
    "    print('difference:',Ctdiffs[col].dropna().mean())\n",
    "    print('# individuals:',len(Ctdiffs[col].dropna()),'\\n')"
   ]
  },
  {
   "cell_type": "code",
   "execution_count": 47,
   "id": "d6d6f643",
   "metadata": {
    "hidden": true
   },
   "outputs": [
    {
     "name": "stdout",
     "output_type": "stream",
     "text": [
      "Diff PCR v. matched RDT swabs\n",
      "PCR 0.9874260107681504\n",
      "RDT 0.6979901682105475\n",
      "Diff PCR v. matched RDT strips\n",
      "PCR 0.9802260642744877\n",
      "RDT 0.5280540414005284\n"
     ]
    }
   ],
   "source": [
    "print('Diff PCR v. matched RDT swabs')\n",
    "print('PCR',combined[combined.variable=='Bswab'].Percent.mean()-Genome_diffs['Bswab'].dropna().mean())\n",
    "print('RDT',combined[combined.variable=='Bswab'].Percent.mean())\n",
    "print('Diff PCR v. matched RDT strips')\n",
    "ppl = sum([len(Genome_diffs[col].dropna()) for col in ['Bstr','Qstr','inan']])\n",
    "rdt = sum([len(Genome_diffs[col].dropna())*combined[combined.variable==col].Percent.mean() \\\n",
    "           for col in ['Bstr','Qstr','inan']]) / ppl\n",
    "pcr = sum([len(Genome_diffs[col].dropna())*\\\n",
    "           (combined[combined.variable==col].Percent.mean()-Genome_diffs[col].dropna().mean()) \\\n",
    "           for col in ['Bstr','Qstr','inan']]) / ppl\n",
    "print('PCR',pcr)\n",
    "print('RDT',rdt)"
   ]
  },
  {
   "cell_type": "code",
   "execution_count": 48,
   "id": "6a89ebaa",
   "metadata": {
    "hidden": true
   },
   "outputs": [
    {
     "name": "stdout",
     "output_type": "stream",
     "text": [
      "Bswab\n",
      "pvalue: 0.0234375\n",
      "difference: -0.2894358425576029\n",
      "average % for all of this category: 0.6979901682105475\n",
      "# individuals: 8 \n",
      "\n",
      "Bstr\n",
      "pvalue: 0.5\n",
      "difference: -0.736899307761763\n",
      "average % for all of this category: 0.24407250108684747\n",
      "# individuals: 2 \n",
      "\n",
      "Qtube\n",
      "pvalue: 1.0\n",
      "difference: -0.03992910410326733\n",
      "average % for all of this category: 0.954854028023944\n",
      "# individuals: 1 \n",
      "\n",
      "Qstr\n",
      "pvalue: 0.125\n",
      "difference: -0.3110724676453867\n",
      "average % for all of this category: 0.6800856101394509\n",
      "# individuals: 5 \n",
      "\n",
      "inan\n",
      "pvalue: 0.25\n",
      "difference: -0.49751975832971057\n",
      "average % for all of this category: 0.4639891203781114\n",
      "# individuals: 3 \n",
      "\n",
      "All \n",
      "pvalue: 3.814697265625e-05 \n",
      "difference -0.36195453017387796\n"
     ]
    }
   ],
   "source": [
    "for col in Genome_diffs.columns:\n",
    "    print(col)\n",
    "    print('pvalue:',stats.wilcoxon(Genome_diffs[col].dropna()).pvalue)\n",
    "    print('difference:',Genome_diffs[col].dropna().mean())\n",
    "    print('average % for all of this category:',combined[combined.variable==col].Percent.mean())\n",
    "    print('# individuals:',len(Genome_diffs[col].dropna()),'\\n')\n",
    "\n",
    "All = Genome_diffs.values.flatten()\n",
    "print('All','\\npvalue:',stats.wilcoxon(All, nan_policy='omit').pvalue,'\\ndifference',np.nanmean(All))"
   ]
  },
  {
   "cell_type": "code",
   "execution_count": 49,
   "id": "09f35632",
   "metadata": {
    "hidden": true
   },
   "outputs": [
    {
     "name": "stdout",
     "output_type": "stream",
     "text": [
      "Strip\n",
      "pvalue: 3.814697265625e-05\n",
      "difference: -10823.526315789473\n",
      "# individuals: 19 \n",
      "\n",
      "Buffer\n",
      "pvalue: 1.0\n",
      "difference: -1194.000000000003\n",
      "# individuals: 1 \n",
      "\n",
      "Swab\n",
      "pvalue: 0.0234375\n",
      "difference: -8655.0\n",
      "# individuals: 8 \n",
      "\n"
     ]
    }
   ],
   "source": [
    "for col in Genome_diffs2.columns:\n",
    "    print(col)\n",
    "    print('pvalue:',stats.wilcoxon(Genome_diffs2[col].dropna()).pvalue)\n",
    "    print('difference:',Genome_diffs2[col].dropna().mean()*LENGTH)\n",
    "    print('# individuals:',len(Genome_diffs2[col].dropna()),'\\n')"
   ]
  },
  {
   "cell_type": "code",
   "execution_count": 50,
   "id": "d2d00ff9",
   "metadata": {
    "hidden": true
   },
   "outputs": [
    {
     "name": "stdout",
     "output_type": "stream",
     "text": [
      "SignificanceResult(statistic=inf, pvalue=4.7082688265276965e-24)\n",
      "100.0\n",
      "SignificanceResult(statistic=43.714285714285715, pvalue=1.3601960406497734e-11)\n",
      "86.41975308641975\n"
     ]
    }
   ],
   "source": [
    "#Across sample types, the ability to designate a lineage demonstrated perfect concordance with\n",
    "#genome assembly of at least 70% (Fisher’s p val, Figure 4B) and a concordance of XX% with Ct < 32 \n",
    "#(Fisher’s p val).\n",
    "\n",
    "bin_assembled = np.array(combined.Percent >= .7)\n",
    "bin_lineage   = np.array(['B' in str(c) for c in combined.pango_lineage])\n",
    "bin_Ct32      = np.array(combined.value < 32)\n",
    "\n",
    "# Fisher's test for genome assembly >= / < 70%; v. lineage designated or not\n",
    "ftest_1 = [[sum(bin_assembled & bin_lineage), sum(bin_assembled & ~bin_lineage)],\\\n",
    "          [sum(~bin_assembled & bin_lineage), sum(~bin_assembled & ~bin_lineage)]]\n",
    "print(stats.fisher_exact(ftest_1))\n",
    "print(100*(ftest_1[0][0]+ftest_1[1][1]) / (sum(ftest_1[0])+sum(ftest_1[1])))\n",
    "\n",
    "# Fisher's test for Ct </> 32; v. lineage designated or not\n",
    "ftest_2 = [[sum(bin_Ct32 & bin_lineage), sum(bin_Ct32 & ~bin_lineage)],\\\n",
    "          [sum(~bin_Ct32 & bin_lineage), sum(~bin_Ct32 & ~bin_lineage)]]\n",
    "print(stats.fisher_exact(ftest_2))\n",
    "print(100*(ftest_2[0][0]+ftest_2[1][1]) / (sum(ftest_2[0])+sum(ftest_2[1])))\n"
   ]
  },
  {
   "cell_type": "markdown",
   "id": "34c1d973",
   "metadata": {
    "heading_collapsed": true
   },
   "source": [
    "# Synthetic comparisons"
   ]
  },
  {
   "cell_type": "markdown",
   "id": "1b2670f0",
   "metadata": {
    "heading_collapsed": true,
    "hidden": true
   },
   "source": [
    "## Set up data tables"
   ]
  },
  {
   "cell_type": "code",
   "execution_count": 51,
   "id": "9e0c6f0b",
   "metadata": {
    "hidden": true,
    "scrolled": true
   },
   "outputs": [],
   "source": [
    "# elution time\n",
    "elution_time = elution.copy()\n",
    "elution_time['Type'] = elution_time['Category'].str.split(pat='(-)',expand=True).iloc[:,2]\n",
    "elution_time['Time'] = elution_time['Category'].str.split(pat='(-)',expand=True).iloc[:,0]\n",
    "elution_time['Ct Mean'] = pd.to_numeric(elution_time['Ct Mean'], errors='coerce').replace(np.nan,40)\n",
    "elution_time.rename(columns={'Time':'variable','Ct Mean':'value'}, inplace=True)"
   ]
  },
  {
   "cell_type": "code",
   "execution_count": 52,
   "id": "9775ab22",
   "metadata": {
    "hidden": true
   },
   "outputs": [],
   "source": [
    "# elution buffer\n",
    "buffer_order = ['AVL','LB','0.5LB','VTM','TE'] # translating from samples s## to what the buffer was\n",
    "buffer_df = PCR_results(buffer)\n",
    "buffer_df = buffer_df[buffer_df['Sample Name'].str.startswith(('s','H2O'))].rename(columns={'CT':'value'})\n",
    "buffer_df['variable'] = ['Water Control' if s=='H2O' else \\\n",
    "                         buffer_order[int(np.floor((int(s[1:])-1)/3))] for s in buffer_df['Sample Name']]"
   ]
  },
  {
   "cell_type": "code",
   "execution_count": 53,
   "id": "618ec4c0",
   "metadata": {
    "hidden": true
   },
   "outputs": [],
   "source": [
    "# rotating or not rotating -- some data points will be for box and whisker, and some just for scatter plots\n",
    "rotation_df = PCR_results(rotation)\n",
    "rot_dict = {\"1hr: Rotation\": rotation_df[rotation_df['Sample Name'].str.contains('HR')]['CT'].values,\n",
    "            \"10m: Rotation\": rotation_df[rotation_df['Sample Name'].str.contains('\\d+R')]['CT'].values,\n",
    "            \"10m: No Rotation\": rotation_df[rotation_df['Sample Name'].str.contains('\\d+R')]['CT'].values}\n",
    "rotation_box = pd.melt(pd.DataFrame.from_dict(rot_dict, orient='index').T)\n",
    "rot_dict.update({\"water\":rotation_df[rotation_df['Sample Name'].str.contains('H2O')].CT.values,\n",
    "                 \"viral seedstock\":rotation_df[rotation_df['Sample Name'].str.contains('POS')].CT.values})\n",
    "rotation_dot = pd.melt(pd.DataFrame.from_dict(rot_dict, orient='index').T).dropna()"
   ]
  },
  {
   "cell_type": "code",
   "execution_count": 54,
   "id": "19ad0645",
   "metadata": {
    "hidden": true
   },
   "outputs": [],
   "source": [
    "# affect of time difference between seeding & extraction\n",
    "seeding_sample = PCR_results(seeding)\n",
    "seeding_sample['Type'] = seeding_sample['Sample Name'].str.split(pat='(_)',expand=True).iloc[:,0]\n",
    "seeding_sample['Day'] = pd.to_numeric([t[-1] for t in seeding_sample.Type], errors='coerce')\n",
    "seeding_sample['variable'] = seeding_sample['Sample Name'].str.split(pat='(_)',expand=True).iloc[:,2]\n",
    "seeding_sample['variable'] = ['Strip' if n in ['1','2','3'] else n for n in seeding_sample.variable]\n",
    "seeding_sample['variable'] = ['Seedstock' if n in ['pos'] else n for n in seeding_sample.variable]\n",
    "seeding_sample = seeding_sample[[x is not None for x in seeding_sample.variable]]"
   ]
  },
  {
   "cell_type": "code",
   "execution_count": 55,
   "id": "67e94b2b",
   "metadata": {
    "hidden": true
   },
   "outputs": [],
   "source": [
    "#Kingfisher v. Column extractions\n",
    "kff = PCR_results(KFFcomp).rename(columns={'CT':'value'})\n",
    "kff[['variable','details']] = kff['Sample Name'].str.split(pat='(_)',expand=True)[[0,2]]\n",
    "kff = kff[[d is not None for d in kff.details]].reset_index(drop=True)\n",
    "for nonsample in ['H2O','Stock']:\n",
    "    kff.loc[kff.details==nonsample,'variable'] = nonsample"
   ]
  },
  {
   "cell_type": "markdown",
   "id": "83fafc99",
   "metadata": {
    "heading_collapsed": true,
    "hidden": true
   },
   "source": [
    "## Box and whisker plots"
   ]
  },
  {
   "cell_type": "code",
   "execution_count": 56,
   "id": "1623789a",
   "metadata": {
    "hidden": true
   },
   "outputs": [],
   "source": [
    "sns.set_style(\"white\")"
   ]
  },
  {
   "cell_type": "code",
   "execution_count": 57,
   "id": "7d4c1036",
   "metadata": {
    "hidden": true
   },
   "outputs": [
    {
     "name": "stderr",
     "output_type": "stream",
     "text": [
      "/Users/jsilbert/opt/miniconda3/lib/python3.9/site-packages/statannotations/_Plotter.py:337: UserWarning: Invalid x-position found. Are the same parameters passed to seaborn and statannotations calls? or are there few data points?\n",
      "  warnings.warn(\n"
     ]
    },
    {
     "name": "stdout",
     "output_type": "stream",
     "text": [
      "p-value annotation legend:\n",
      "      ns: p <= 1.00e+00\n",
      "       *: 1.00e-02 < p <= 5.00e-02\n",
      "      **: 1.00e-03 < p <= 1.00e-02\n",
      "     ***: 1.00e-04 < p <= 1.00e-03\n",
      "    ****: p <= 1.00e-04\n",
      "\n",
      "24h vs. 1h: Custom statistical test, P_val:1.172e-01\n",
      "1h vs. 10m: Custom statistical test, P_val:7.580e-02\n",
      "24h vs. 10m: Custom statistical test, P_val:7.540e-01\n"
     ]
    },
    {
     "data": {
      "image/png": "[encoded data removed]",
      "text/plain": [
       "<Figure size 360x360 with 1 Axes>"
      ]
     },
     "metadata": {},
     "output_type": "display_data"
    }
   ],
   "source": [
    "df = elution_time[(elution_time.Type!='tube') & (elution_time.Type!='PosCtrl')]\n",
    "order = ['10m','1h','24h','NTC']\n",
    "\n",
    "f, ax = plt.subplots(1,1,figsize=[5,5])\n",
    "sns.stripplot(data=df, x=\"variable\", y=\"value\", order=order, **args_stripplot)\n",
    "sns.boxplot(x=\"variable\", y=\"value\", data=df, order=order, **args_boxplot)\n",
    "\n",
    "ax.set_ylim([41,19])\n",
    "plt.yticks(np.arange(20,45,5))\n",
    "\n",
    "pairs = [['24h','1h'],['24h','10m'],['1h','10m']]\n",
    "annotator = Annotator(ax, pairs,data=df,x='variable',y='value')\n",
    "annotator.set_pvalues(get_pvalues2(df,pairs))\n",
    "annotator.annotate()\n",
    "\n",
    "ax.set_xlabel('Elution Time', fontsize=12)\n",
    "ax.set_ylabel('Ct Values', fontsize=12)\n",
    "ax.get_legend().remove()\n",
    "\n",
    "save_figure('fig/synthetic_elution_time.svg')"
   ]
  },
  {
   "cell_type": "code",
   "execution_count": 58,
   "id": "b4179c67",
   "metadata": {
    "hidden": true
   },
   "outputs": [
    {
     "name": "stderr",
     "output_type": "stream",
     "text": [
      "/Users/jsilbert/opt/miniconda3/lib/python3.9/site-packages/statannotations/_Plotter.py:337: UserWarning: Invalid x-position found. Are the same parameters passed to seaborn and statannotations calls? or are there few data points?\n",
      "  warnings.warn(\n",
      "/Users/jsilbert/opt/miniconda3/lib/python3.9/site-packages/statannotations/_Plotter.py:337: UserWarning: Invalid x-position found. Are the same parameters passed to seaborn and statannotations calls? or are there few data points?\n",
      "  warnings.warn(\n",
      "/Users/jsilbert/opt/miniconda3/lib/python3.9/site-packages/statannotations/_Plotter.py:337: UserWarning: Invalid x-position found. Are the same parameters passed to seaborn and statannotations calls? or are there few data points?\n",
      "  warnings.warn(\n"
     ]
    },
    {
     "name": "stdout",
     "output_type": "stream",
     "text": [
      "p-value annotation legend:\n",
      "      ns: p <= 1.00e+00\n",
      "       *: 1.00e-02 < p <= 5.00e-02\n",
      "      **: 1.00e-03 < p <= 1.00e-02\n",
      "     ***: 1.00e-04 < p <= 1.00e-03\n",
      "    ****: p <= 1.00e-04\n",
      "\n",
      "TE vs. AVL: Custom statistical test, P_val:2.752e-01\n",
      "AVL vs. VTM: Custom statistical test, P_val:4.953e-02\n",
      "TE vs. VTM: Custom statistical test, P_val:4.953e-02\n"
     ]
    },
    {
     "data": {
      "image/png": "[encoded data removed]",
      "text/plain": [
       "<Figure size 360x360 with 1 Axes>"
      ]
     },
     "metadata": {},
     "output_type": "display_data"
    }
   ],
   "source": [
    "f = plt.figure(figsize=[5,5])\n",
    "\n",
    "order = ['TE','AVL','VTM','LB','0.5LB','Water Control']\n",
    "ax = sns.boxplot(x='variable',y='value',data=buffer_df,order=order,**args_boxplot)\n",
    "sns.stripplot(data= buffer_df,order=order,x=\"variable\", y=\"value\",**args_stripplot)\n",
    "\n",
    "ax.set_ylim([41,19])\n",
    "plt.yticks(np.arange(20,45,5))\n",
    "\n",
    "pairs = [['TE','AVL'],['TE','VTM'],['AVL','VTM']]\n",
    "annotator = Annotator(ax, pairs,data=buffer_df,order=order,x='variable',y='value')\n",
    "annotator.set_pvalues(get_pvalues2(buffer_df,pairs))\n",
    "annotator.annotate()\n",
    "\n",
    "plt.xlabel(\"Buffer Type\", fontweight='normal', fontsize=12)\n",
    "plt.ylabel(\"Ct Values\", fontweight='normal', fontsize=12) \n",
    "plt.legend([],[], frameon=False);\n",
    "\n",
    "save_figure('fig/synthetic_buffer_type.svg')"
   ]
  },
  {
   "cell_type": "code",
   "execution_count": 59,
   "id": "0b65fd83",
   "metadata": {
    "hidden": true
   },
   "outputs": [
    {
     "name": "stderr",
     "output_type": "stream",
     "text": [
      "/Users/jsilbert/opt/miniconda3/lib/python3.9/site-packages/statannotations/_Plotter.py:337: UserWarning: Invalid x-position found. Are the same parameters passed to seaborn and statannotations calls? or are there few data points?\n",
      "  warnings.warn(\n"
     ]
    },
    {
     "name": "stdout",
     "output_type": "stream",
     "text": [
      "p-value annotation legend:\n",
      "      ns: p <= 1.00e+00\n",
      "       *: 1.00e-02 < p <= 5.00e-02\n",
      "      **: 1.00e-03 < p <= 1.00e-02\n",
      "     ***: 1.00e-04 < p <= 1.00e-03\n",
      "    ****: p <= 1.00e-04\n",
      "\n",
      "10m: No Rotation vs. 10m: Rotation: Custom statistical test, P_val:1.000e+00\n",
      "10m: Rotation vs. 1hr: Rotation: Custom statistical test, P_val:5.127e-01\n",
      "10m: No Rotation vs. 1hr: Rotation: Custom statistical test, P_val:5.127e-01\n"
     ]
    },
    {
     "data": {
      "image/png": "[encoded data removed]",
      "text/plain": [
       "<Figure size 360x360 with 1 Axes>"
      ]
     },
     "metadata": {},
     "output_type": "display_data"
    }
   ],
   "source": [
    "f = plt.figure(figsize=[5,5])\n",
    "order = ['10m: No Rotation','10m: Rotation','1hr: Rotation','water']\n",
    "ax = sns.boxplot(x='variable',y='value',data=rotation_dot,order=order,**args_boxplot)\n",
    "sns.stripplot(data= rotation_dot,order=order,x=\"variable\", y=\"value\", **args_stripplot)\n",
    "\n",
    "ax.set_ylim([41,19])\n",
    "plt.yticks(np.arange(20,45,5))\n",
    "\n",
    "pairs = [[order[0],order[1]],[order[0],order[2]],[order[1],order[2]]]\n",
    "annotator = Annotator(ax, pairs, data=rotation_dot, order=order, x='variable', y='value')\n",
    "annotator.set_pvalues(get_pvalues2(rotation_dot,pairs))\n",
    "annotator.annotate()\n",
    "\n",
    "ax.set_xticklabels(['10 min\\nNo rotation','10 min\\nRotation','1 hour\\nRotation','Water\\nControl'])\n",
    "\n",
    "plt.xlabel(\"Rotation\", fontweight='normal', fontsize=12,visible=False)\n",
    "plt.ylabel(\"Ct Values\", fontweight='normal', fontsize=12)\n",
    "plt.legend([],[], frameon=False);\n",
    "\n",
    "save_figure('fig/synthetic_rotation.svg')"
   ]
  },
  {
   "cell_type": "code",
   "execution_count": 60,
   "id": "abecc1af",
   "metadata": {
    "hidden": true
   },
   "outputs": [
    {
     "name": "stderr",
     "output_type": "stream",
     "text": [
      "/Users/jsilbert/opt/miniconda3/lib/python3.9/site-packages/statannotations/_Plotter.py:337: UserWarning: Invalid x-position found. Are the same parameters passed to seaborn and statannotations calls? or are there few data points?\n",
      "  warnings.warn(\n",
      "/Users/jsilbert/opt/miniconda3/lib/python3.9/site-packages/statannotations/_Plotter.py:337: UserWarning: Invalid x-position found. Are the same parameters passed to seaborn and statannotations calls? or are there few data points?\n",
      "  warnings.warn(\n",
      "/Users/jsilbert/opt/miniconda3/lib/python3.9/site-packages/statannotations/_Plotter.py:337: UserWarning: Invalid x-position found. Are the same parameters passed to seaborn and statannotations calls? or are there few data points?\n",
      "  warnings.warn(\n"
     ]
    },
    {
     "name": "stdout",
     "output_type": "stream",
     "text": [
      "p-value annotation legend:\n",
      "      ns: p <= 1.00e+00\n",
      "       *: 1.00e-02 < p <= 5.00e-02\n",
      "      **: 1.00e-03 < p <= 1.00e-02\n",
      "     ***: 1.00e-04 < p <= 1.00e-03\n",
      "    ****: p <= 1.00e-04\n",
      "\n",
      "ColumnExtract vs. KFFfromAVL: Custom statistical test, P_val:4.953e-02\n",
      "KFFfromAVL vs. KFFwithKFFBuffer: Custom statistical test, P_val:2.752e-01\n",
      "ColumnExtract vs. KFFwithKFFBuffer: Custom statistical test, P_val:4.953e-02\n",
      "diff in ct: -2.040767166666665\n"
     ]
    },
    {
     "name": "stderr",
     "output_type": "stream",
     "text": [
      "<ipython-input-60-e4e31c633d13>:20: FutureWarning: Dropping of nuisance columns in DataFrame reductions (with 'numeric_only=None') is deprecated; in a future version this will raise TypeError.  Select only valid columns before calling the reduction.\n",
      "  ct_diff = (kff[kff.variable=='KFFfromAVL'].mean()+kff[kff.variable=='KFFwithKFFBuffer'].mean())/2\n"
     ]
    },
    {
     "data": {
      "image/png": "[encoded data removed]",
      "text/plain": [
       "<Figure size 360x360 with 1 Axes>"
      ]
     },
     "metadata": {},
     "output_type": "display_data"
    }
   ],
   "source": [
    "f = plt.figure(figsize=[5,5])\n",
    "order = ['ColumnExtract','KFFfromAVL', 'KFFwithKFFBuffer','H2O']\n",
    "\n",
    "ax = sns.stripplot(data=kff, x=\"variable\", y=\"value\", order=order, **args_stripplot)\n",
    "sns.boxplot(x=\"variable\", y=\"value\", data=kff, order=order, **args_boxplot)\n",
    "\n",
    "ax.set_ylim([41,19])\n",
    "plt.yticks(np.arange(20,45,5))\n",
    "\n",
    "pairs = [['ColumnExtract','KFFfromAVL'],['ColumnExtract','KFFwithKFFBuffer'],['KFFfromAVL','KFFwithKFFBuffer']]\n",
    "annotator = Annotator(ax, pairs,data=kff,order=order,x='variable',y='value')\n",
    "annotator.set_pvalues(get_pvalues2(kff,pairs))\n",
    "annotator.annotate()\n",
    "\n",
    "ax.set_xlabel('Extraction Method', fontsize=12)\n",
    "ax.set_xticklabels(['Manual','Automatic\\n(AVL Buffer)','Automatic\\n(KFF Buffer)','Water Control'])\n",
    "ax.set_ylabel('Ct Values', fontsize=12)\n",
    "ax.get_legend().remove()\n",
    "\n",
    "ct_diff = (kff[kff.variable=='KFFfromAVL'].mean()+kff[kff.variable=='KFFwithKFFBuffer'].mean())/2\n",
    "ct_diff = (kff[kff.variable=='ColumnExtract'].value.mean()-ct_diff).value\n",
    "print('diff in ct:',ct_diff)\n",
    "\n",
    "save_figure('fig/synthetic_extraction_method.svg')"
   ]
  },
  {
   "cell_type": "markdown",
   "id": "a2a652d7",
   "metadata": {
    "hidden": true
   },
   "source": [
    "## Linear regression"
   ]
  },
  {
   "cell_type": "code",
   "execution_count": 61,
   "id": "3b1e52ac",
   "metadata": {
    "hidden": true
   },
   "outputs": [],
   "source": [
    "sns.set_style(\"white\")"
   ]
  },
  {
   "cell_type": "code",
   "execution_count": 62,
   "id": "d3193168",
   "metadata": {
    "hidden": true
   },
   "outputs": [
    {
     "name": "stdout",
     "output_type": "stream",
     "text": [
      "Linregress Results for Strips:\n",
      "slope = -0.06 \n",
      "CI = -0.23 to 0.10 \n",
      "p = 0.4463694111099027\n",
      "\n",
      "Linregress Results for Seedstock:\n",
      "slope = 0.33 \n",
      "CI = 0.07 to 0.58 \n",
      "p = 0.047916512267600554\n",
      "\n"
     ]
    },
    {
     "data": {
      "image/png": "[encoded data removed]",
      "text/plain": [
       "<Figure size 720x360 with 1 Axes>"
      ]
     },
     "metadata": {},
     "output_type": "display_data"
    }
   ],
   "source": [
    "plt.figure(figsize=[10,5])\n",
    "\n",
    "ax = sns.swarmplot(data=seeding_sample[seeding_sample.variable!='Ctrl'], x=\"Day\", y=\"CT\",**args_scatterplot_2x)\n",
    "sns.regplot(x='Day', y= 'CT', data=seeding_sample[seeding_sample.variable=='Strip'],\\\n",
    "            scatter=False,truncate=False, line_kws = {'color':'grey'})\n",
    "sns.regplot(x='Day', y= 'CT', data=seeding_sample[seeding_sample.variable=='Seedstock'],\\\n",
    "            scatter=False,truncate=False, line_kws = {'color':'black'})\n",
    "\n",
    "ax.invert_yaxis()\n",
    "\n",
    "plt.xlabel(\"Days left at Room Temperature\", fontweight='normal', fontsize=12)\n",
    "plt.ylabel(\"Ct Values\", fontweight='normal', fontsize=12) \n",
    "\n",
    "ax.set_ylim([43,17])\n",
    "\n",
    "handles, labels = ax.get_legend_handles_labels()\n",
    "ax.legend(handles=handles[0:], labels=['Synthetic RDT Strip','Seedstock']);\n",
    "\n",
    "#stats\n",
    "slope95CI(seeding_sample[seeding_sample.variable=='Strip']['Day'],\\\n",
    "          seeding_sample[seeding_sample.variable=='Strip']['CT'],'Strips')\n",
    "slope95CI(seeding_sample[seeding_sample.variable=='Seedstock']['Day'],\\\n",
    "          seeding_sample[seeding_sample.variable=='Seedstock']['CT'],'Seedstock')\n",
    "\n",
    "save_figure('fig/synthetic_days_at_room_temp.svg')"
   ]
  }
 ],
 "metadata": {
  "kernelspec": {
   "display_name": "Python 3",
   "language": "python",
   "name": "python3"
  },
  "language_info": {
   "codemirror_mode": {
    "name": "ipython",
    "version": 3
   },
   "file_extension": ".py",
   "mimetype": "text/x-python",
   "name": "python",
   "nbconvert_exporter": "python",
   "pygments_lexer": "ipython3",
   "version": "3.9.5"
  },
  "toc": {
   "base_numbering": 1,
   "nav_menu": {},
   "number_sections": true,
   "sideBar": true,
   "skip_h1_title": false,
   "title_cell": "Table of Contents",
   "title_sidebar": "Contents",
   "toc_cell": false,
   "toc_position": {
    "height": "calc(100% - 180px)",
    "left": "10px",
    "top": "150px",
    "width": "165px"
   },
   "toc_section_display": true,
   "toc_window_display": true
  }
 },
 "nbformat": 4,
 "nbformat_minor": 5
}
